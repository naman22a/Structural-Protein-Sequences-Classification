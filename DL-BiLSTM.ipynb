{
 "cells": [
  {
   "cell_type": "code",
   "execution_count": 1,
   "id": "965e36db-e60a-427a-9b97-33031bb5d883",
   "metadata": {},
   "outputs": [],
   "source": [
    "import pandas as pd\n",
    "import matplotlib.pyplot as plt\n",
    "import seaborn as sns"
   ]
  },
  {
   "cell_type": "code",
   "execution_count": 2,
   "id": "8cb72d48-c627-4ab2-b3da-8be67746ea1a",
   "metadata": {},
   "outputs": [
    {
     "data": {
      "text/html": [
       "<div>\n",
       "<style scoped>\n",
       "    .dataframe tbody tr th:only-of-type {\n",
       "        vertical-align: middle;\n",
       "    }\n",
       "\n",
       "    .dataframe tbody tr th {\n",
       "        vertical-align: top;\n",
       "    }\n",
       "\n",
       "    .dataframe thead th {\n",
       "        text-align: right;\n",
       "    }\n",
       "</style>\n",
       "<table border=\"1\" class=\"dataframe\">\n",
       "  <thead>\n",
       "    <tr style=\"text-align: right;\">\n",
       "      <th></th>\n",
       "      <th>sequence</th>\n",
       "      <th>classification</th>\n",
       "    </tr>\n",
       "  </thead>\n",
       "  <tbody>\n",
       "    <tr>\n",
       "      <th>0</th>\n",
       "      <td>AQLVDSMPSASTGSVVVTDDLNYWGGRRIKSKDGATTEPVFEPATG...</td>\n",
       "      <td>OXIDOREDUCTASE</td>\n",
       "    </tr>\n",
       "    <tr>\n",
       "      <th>1</th>\n",
       "      <td>MGAFLDKPKMEKHNAQGQGNGLRYGLSSMQGWRVEMEDAHTAVIGL...</td>\n",
       "      <td>HYDROLASE</td>\n",
       "    </tr>\n",
       "    <tr>\n",
       "      <th>2</th>\n",
       "      <td>STAGKVIKCKAAVLWEEKKPFSIEEVEVAPPKAHEVRIKMVATGIC...</td>\n",
       "      <td>OXIDOREDUCTASE</td>\n",
       "    </tr>\n",
       "    <tr>\n",
       "      <th>3</th>\n",
       "      <td>MDIRQGPKEPFRDYVDRFYKTLRAEQASQEVKNWMTETLLVQNANP...</td>\n",
       "      <td>VIRAL PROTEIN</td>\n",
       "    </tr>\n",
       "    <tr>\n",
       "      <th>4</th>\n",
       "      <td>EVKQENRLLNESESSSQGLLGYYFSDLNFQAPMVVTSSTTGDLSIP...</td>\n",
       "      <td>TOXIN</td>\n",
       "    </tr>\n",
       "  </tbody>\n",
       "</table>\n",
       "</div>"
      ],
      "text/plain": [
       "                                            sequence  classification\n",
       "0  AQLVDSMPSASTGSVVVTDDLNYWGGRRIKSKDGATTEPVFEPATG...  OXIDOREDUCTASE\n",
       "1  MGAFLDKPKMEKHNAQGQGNGLRYGLSSMQGWRVEMEDAHTAVIGL...       HYDROLASE\n",
       "2  STAGKVIKCKAAVLWEEKKPFSIEEVEVAPPKAHEVRIKMVATGIC...  OXIDOREDUCTASE\n",
       "3  MDIRQGPKEPFRDYVDRFYKTLRAEQASQEVKNWMTETLLVQNANP...   VIRAL PROTEIN\n",
       "4  EVKQENRLLNESESSSQGLLGYYFSDLNFQAPMVVTSSTTGDLSIP...           TOXIN"
      ]
     },
     "execution_count": 2,
     "metadata": {},
     "output_type": "execute_result"
    }
   ],
   "source": [
    "data = pd.read_csv('./data/protein_data.csv')\n",
    "data.head()"
   ]
  },
  {
   "cell_type": "code",
   "execution_count": 3,
   "id": "141e4516-5b15-4ddd-9dea-4f71583dd157",
   "metadata": {},
   "outputs": [],
   "source": [
    "X = data['sequence']\n",
    "y = data['classification']\n",
    "\n",
    "from sklearn.preprocessing import LabelEncoder\n",
    "le = LabelEncoder()\n",
    "y = le.fit_transform(y)\n",
    "class_names = le.classes_\n",
    "n_classes = len(class_names)\n",
    "\n",
    "from sklearn.model_selection import train_test_split\n",
    "X_train, X_test, y_train,y_test = train_test_split(X, y, test_size=0.2, random_state=42)\n",
    "X_train, X_val, y_train, y_val = train_test_split(X_train, y_train, test_size=0.1, random_state=42)"
   ]
  },
  {
   "cell_type": "code",
   "execution_count": 4,
   "id": "31823f9b-a6c4-4951-8c95-924cd05f0a4b",
   "metadata": {},
   "outputs": [
    {
     "data": {
      "text/plain": [
       "32"
      ]
     },
     "execution_count": 4,
     "metadata": {},
     "output_type": "execute_result"
    }
   ],
   "source": [
    "n_classes"
   ]
  },
  {
   "cell_type": "code",
   "execution_count": 5,
   "id": "e49ce594-56a0-422d-9a35-18ca00e35914",
   "metadata": {},
   "outputs": [
    {
     "data": {
      "text/plain": [
       "array(['CELL ADHESION', 'CELL CYCLE', 'CHAPERONE', 'DE NOVO PROTEIN',\n",
       "       'DNA BINDING PROTEIN', 'ELECTRON TRANSPORT', 'GENE REGULATION',\n",
       "       'HYDROLASE', 'HYDROLASE/HYDROLASE INHIBITOR', 'IMMUNE SYSTEM',\n",
       "       'ISOMERASE', 'LIGASE', 'LYASE', 'MEMBRANE PROTEIN',\n",
       "       'METAL BINDING PROTEIN', 'OXIDOREDUCTASE',\n",
       "       'OXIDOREDUCTASE/OXIDOREDUCTASE INHIBITOR', 'PHOTOSYNTHESIS',\n",
       "       'PROTEIN BINDING', 'PROTEIN TRANSPORT', 'RNA BINDING PROTEIN',\n",
       "       'SIGNALING PROTEIN', 'STRUCTURAL GENOMICS, UNKNOWN FUNCTION',\n",
       "       'STRUCTURAL PROTEIN', 'SUGAR BINDING PROTEIN', 'TOXIN',\n",
       "       'TRANSCRIPTION', 'TRANSFERASE',\n",
       "       'TRANSFERASE/TRANSFERASE INHIBITOR', 'TRANSPORT PROTEIN',\n",
       "       'UNKNOWN FUNCTION', 'VIRAL PROTEIN'], dtype=object)"
      ]
     },
     "execution_count": 5,
     "metadata": {},
     "output_type": "execute_result"
    }
   ],
   "source": [
    "class_names"
   ]
  },
  {
   "cell_type": "code",
   "execution_count": 6,
   "id": "6e8b6fd5-b63d-4752-b7e1-2dc6cfc73b38",
   "metadata": {},
   "outputs": [
    {
     "name": "stdout",
     "output_type": "stream",
     "text": [
      "Average character length: 241.89\n"
     ]
    }
   ],
   "source": [
    "avg_char_len = X_train.str.len().mean()\n",
    "print(f\"Average character length: {avg_char_len:.2f}\")"
   ]
  },
  {
   "cell_type": "code",
   "execution_count": 7,
   "id": "067d9846-6114-4b92-9101-b52d54bd3d3f",
   "metadata": {},
   "outputs": [],
   "source": [
    "import tensorflow as tf\n",
    "from tensorflow.keras.layers import TextVectorization\n",
    "\n",
    "max_vocab_length = 25\n",
    "max_length = 300\n",
    "\n",
    "text_vectorizer = TextVectorization(max_tokens=max_vocab_length,\n",
    "                                    split=\"character\",\n",
    "                                    ngrams=None,\n",
    "                                    output_mode=\"int\",\n",
    "                                    output_sequence_length=max_length)"
   ]
  },
  {
   "cell_type": "code",
   "execution_count": 8,
   "id": "e39e1aa7-641c-4eec-8792-6ecf435dab3e",
   "metadata": {},
   "outputs": [],
   "source": [
    "text_vectorizer.adapt(X_train)"
   ]
  },
  {
   "cell_type": "code",
   "execution_count": 9,
   "id": "86c693e0-f9ea-4660-bec5-6e1a0e7cbb1f",
   "metadata": {},
   "outputs": [
    {
     "name": "stdout",
     "output_type": "stream",
     "text": [
      "Original text:\n",
      "MAHHHHHHMGTLEAQTQGPGSMSFSNVPAGKDLPQDFNVIIEIPAQSEPVKYEADKALGLLVVDRFIGTGMRYPVNYGFIPQTLSGDGDPVDVLVITPFPLLAGSVVRARALGMLKMTDESGVDAKLVAVPHDKVCPMTANLKSIDDVPAYLKDQIKHFFEQYKALEKGKWVKVEGWDGIDAAHKEITDGVANFKK      \n",
      "\n",
      "Vectorized version:\n"
     ]
    },
    {
     "data": {
      "text/plain": [
       "<tf.Tensor: shape=(1, 300), dtype=int64, numpy=\n",
       "array([[19,  3, 18, 18, 18, 18, 18, 18, 19,  4, 11,  2,  6,  3, 16, 11,\n",
       "        16,  4, 13,  4,  7, 19,  7, 15,  7, 14,  5, 13,  3,  4,  8,  9,\n",
       "         2, 13, 16,  9, 15, 14,  5, 10, 10,  6, 10, 13,  3, 16,  7,  6,\n",
       "        13,  5,  8, 17,  6,  3,  9,  8,  3,  2,  4,  2,  2,  5,  5,  9,\n",
       "        12, 15, 10,  4, 11,  4, 19, 12, 17, 13,  5, 14, 17,  4, 15, 10,\n",
       "        13, 16, 11,  2,  7,  4,  9,  4,  9, 13,  5,  9,  5,  2,  5, 10,\n",
       "        11, 13, 15, 13,  2,  2,  3,  4,  7,  5,  5, 12,  3, 12,  3,  2,\n",
       "         4, 19,  2,  8, 19, 11,  9,  6,  7,  4,  5,  9,  3,  8,  2,  5,\n",
       "         3,  5, 13, 18,  9,  8,  5, 21, 13, 19, 11,  3, 14,  2,  8,  7,\n",
       "        10,  9,  9,  5, 13,  3, 17,  2,  8,  9, 16, 10,  8, 18, 15, 15,\n",
       "         6, 16, 17,  8,  3,  2,  6,  8,  4,  8, 20,  5,  8,  5,  6,  4,\n",
       "        20,  9,  4, 10,  9,  3,  3, 18,  8,  6, 10, 11,  9,  4,  5,  3,\n",
       "        14, 15,  8,  8,  0,  0,  0,  0,  0,  0,  0,  0,  0,  0,  0,  0,\n",
       "         0,  0,  0,  0,  0,  0,  0,  0,  0,  0,  0,  0,  0,  0,  0,  0,\n",
       "         0,  0,  0,  0,  0,  0,  0,  0,  0,  0,  0,  0,  0,  0,  0,  0,\n",
       "         0,  0,  0,  0,  0,  0,  0,  0,  0,  0,  0,  0,  0,  0,  0,  0,\n",
       "         0,  0,  0,  0,  0,  0,  0,  0,  0,  0,  0,  0,  0,  0,  0,  0,\n",
       "         0,  0,  0,  0,  0,  0,  0,  0,  0,  0,  0,  0,  0,  0,  0,  0,\n",
       "         0,  0,  0,  0,  0,  0,  0,  0,  0,  0,  0,  0]], dtype=int64)>"
      ]
     },
     "execution_count": 9,
     "metadata": {},
     "output_type": "execute_result"
    }
   ],
   "source": [
    "import random\n",
    "\n",
    "random_seq = random.choice(X_train)\n",
    "print(f\"Original text:\\n{random_seq}\\\n",
    "      \\n\\nVectorized version:\")\n",
    "text_vectorizer([random_seq])"
   ]
  },
  {
   "cell_type": "code",
   "execution_count": 10,
   "id": "c21c223d-6a82-431f-9bbf-cc3d447087fb",
   "metadata": {},
   "outputs": [
    {
     "name": "stdout",
     "output_type": "stream",
     "text": [
      "Number of words in vocab: 25\n",
      "Top 5 most common words: ['', '[UNK]', 'l', 'a', 'g']\n",
      "Bottom 5 least common words: ['w', 'c', 'x', 'b', 'z']\n"
     ]
    }
   ],
   "source": [
    "words_in_vocab = text_vectorizer.get_vocabulary()\n",
    "top_5_words = words_in_vocab[:5] # most common tokens (notice the [UNK] token for \"unknown\" words)\n",
    "bottom_5_words = words_in_vocab[-5:] # least common tokens\n",
    "print(f\"Number of words in vocab: {len(words_in_vocab)}\")\n",
    "print(f\"Top 5 most common words: {top_5_words}\") \n",
    "print(f\"Bottom 5 least common words: {bottom_5_words}\")"
   ]
  },
  {
   "cell_type": "code",
   "execution_count": 11,
   "id": "0a29648a-26bd-4be0-af87-1f50643ee8c9",
   "metadata": {},
   "outputs": [
    {
     "data": {
      "text/plain": [
       "<keras.layers.core.embedding.Embedding at 0x14d767e4a30>"
      ]
     },
     "execution_count": 11,
     "metadata": {},
     "output_type": "execute_result"
    }
   ],
   "source": [
    "tf.random.set_seed(42)\n",
    "from tensorflow.keras import layers\n",
    "\n",
    "embedding = layers.Embedding(input_dim=max_vocab_length, # set input shape\n",
    "                             output_dim=128, # set size of embedding vector\n",
    "                             embeddings_initializer=\"uniform\", # default, intialize randomly\n",
    "                             input_length=max_length, # how long is each input\n",
    "                             name=\"embedding_1\") \n",
    "\n",
    "embedding"
   ]
  },
  {
   "cell_type": "code",
   "execution_count": 12,
   "id": "20f51597-9883-4084-999e-dfacabfb2930",
   "metadata": {},
   "outputs": [
    {
     "name": "stdout",
     "output_type": "stream",
     "text": [
      "Original text:\n",
      "GSSEHLKREHSLIKPYQGVGSSSMPLWDFQGSTILTSQYVRLTPDERSKEGSIWNHQPCFLKDWEMHVHFKVHGTGKKNLHGDGIALWYTRDRLVPGPVFGSKDNFHGLAIFLDTYPNDETTERVFPYISVMVNNGSLSYDHSKDGRWTELAGCTADFRNRDHDTFLAVRYSRGRLTVMTDLEDKNEWKNCIDITGVRLPTGYYFGASAGTGDLSDNHDIISMKLFQLMVEHTPDEENIDWTKIEPSVNFLKS      \n",
      "\n",
      "Embedded version:\n"
     ]
    },
    {
     "data": {
      "text/plain": [
       "<tf.Tensor: shape=(1, 300, 128), dtype=float32, numpy=\n",
       "array([[[ 0.04371962,  0.04255669, -0.02453597, ...,  0.03685858,\n",
       "         -0.02092716,  0.01008142],\n",
       "        [-0.00025875,  0.04902965,  0.00357349, ...,  0.03631172,\n",
       "          0.01563982,  0.02050025],\n",
       "        [-0.00025875,  0.04902965,  0.00357349, ...,  0.03631172,\n",
       "          0.01563982,  0.02050025],\n",
       "        ...,\n",
       "        [ 0.02202084, -0.04383255,  0.01650442, ..., -0.03762051,\n",
       "          0.01578439,  0.01182286],\n",
       "        [ 0.02202084, -0.04383255,  0.01650442, ..., -0.03762051,\n",
       "          0.01578439,  0.01182286],\n",
       "        [ 0.02202084, -0.04383255,  0.01650442, ..., -0.03762051,\n",
       "          0.01578439,  0.01182286]]], dtype=float32)>"
      ]
     },
     "execution_count": 12,
     "metadata": {},
     "output_type": "execute_result"
    }
   ],
   "source": [
    "# Get a random sentence from training set\n",
    "random_seq = random.choice(X_train)\n",
    "print(f\"Original text:\\n{random_seq}\\\n",
    "      \\n\\nEmbedded version:\")\n",
    "\n",
    "# Embed the random sentence (turn it into numerical representation)\n",
    "sample_embed = embedding(text_vectorizer([random_seq]))\n",
    "sample_embed"
   ]
  },
  {
   "cell_type": "code",
   "execution_count": 13,
   "id": "c7a6d5b0-3752-4756-b0de-3a7ed0e6e519",
   "metadata": {},
   "outputs": [
    {
     "data": {
      "text/plain": [
       "array([ 6, 23, 31, ...,  6, 12, 16])"
      ]
     },
     "execution_count": 13,
     "metadata": {},
     "output_type": "execute_result"
    }
   ],
   "source": [
    "y_test"
   ]
  },
  {
   "cell_type": "code",
   "execution_count": 14,
   "id": "834ba47c-540d-44e7-8cf1-aebd4bd0a976",
   "metadata": {},
   "outputs": [],
   "source": [
    "y_test_str = [class_names[y] for y in y_test]"
   ]
  },
  {
   "cell_type": "code",
   "execution_count": 15,
   "id": "d7543131-b3d5-43b6-8239-5740d8a35c23",
   "metadata": {},
   "outputs": [],
   "source": [
    "from tensorflow.keras import layers\n",
    "inputs = layers.Input(shape=(1,), dtype=\"string\")\n",
    "x = text_vectorizer(inputs)\n",
    "x = embedding(x)\n",
    "x = layers.Bidirectional(layers.LSTM(128, return_sequences=True))(x)\n",
    "x = layers.Bidirectional(layers.LSTM(128))(x)\n",
    "\n",
    "x = layers.Dense(256, activation=\"relu\")(x)\n",
    "x = layers.Dense(128, activation=\"relu\")(x)\n",
    "x = layers.Dense(64, activation=\"relu\")(x)\n",
    "\n",
    "outputs = layers.Dense(n_classes, activation=\"softmax\")(x)\n",
    "model = tf.keras.Model(inputs, outputs)\n",
    "\n",
    "model.compile(loss=tf.keras.losses.SparseCategoricalCrossentropy(),\n",
    "                optimizer=tf.keras.optimizers.Adam(),\n",
    "                metrics=[\"accuracy\"])"
   ]
  },
  {
   "cell_type": "code",
   "execution_count": 16,
   "id": "4d44adae-89c9-44f8-88d6-ea642b6d731f",
   "metadata": {},
   "outputs": [
    {
     "name": "stdout",
     "output_type": "stream",
     "text": [
      "Model: \"model\"\n",
      "_________________________________________________________________\n",
      " Layer (type)                Output Shape              Param #   \n",
      "=================================================================\n",
      " input_1 (InputLayer)        [(None, 1)]               0         \n",
      "                                                                 \n",
      " text_vectorization (TextVec  (None, 300)              0         \n",
      " torization)                                                     \n",
      "                                                                 \n",
      " embedding_1 (Embedding)     (None, 300, 128)          3200      \n",
      "                                                                 \n",
      " bidirectional (Bidirectiona  (None, 300, 256)         263168    \n",
      " l)                                                              \n",
      "                                                                 \n",
      " bidirectional_1 (Bidirectio  (None, 256)              394240    \n",
      " nal)                                                            \n",
      "                                                                 \n",
      " dense (Dense)               (None, 256)               65792     \n",
      "                                                                 \n",
      " dense_1 (Dense)             (None, 128)               32896     \n",
      "                                                                 \n",
      " dense_2 (Dense)             (None, 64)                8256      \n",
      "                                                                 \n",
      " dense_3 (Dense)             (None, 32)                2080      \n",
      "                                                                 \n",
      "=================================================================\n",
      "Total params: 769,632\n",
      "Trainable params: 769,632\n",
      "Non-trainable params: 0\n",
      "_________________________________________________________________\n"
     ]
    }
   ],
   "source": [
    "model.summary()"
   ]
  },
  {
   "cell_type": "code",
   "execution_count": 17,
   "id": "7489f72f-c534-4fa2-9014-bf76175ea21f",
   "metadata": {},
   "outputs": [
    {
     "name": "stdout",
     "output_type": "stream",
     "text": [
      "Epoch 1/20\n",
      "6096/6096 [==============================] - 1111s 100ms/step - loss: 2.8222 - accuracy: 0.2141 - val_loss: 2.1838 - val_accuracy: 0.3750\n",
      "Epoch 2/20\n",
      "6096/6096 [==============================] - 613s 101ms/step - loss: 1.5906 - accuracy: 0.5461 - val_loss: 1.1867 - val_accuracy: 0.6589\n",
      "Epoch 3/20\n",
      "6096/6096 [==============================] - 603s 99ms/step - loss: 0.9331 - accuracy: 0.7284 - val_loss: 0.8286 - val_accuracy: 0.7589\n",
      "Epoch 4/20\n",
      "6096/6096 [==============================] - 616s 101ms/step - loss: 0.6853 - accuracy: 0.7982 - val_loss: 0.6845 - val_accuracy: 0.7990\n",
      "Epoch 5/20\n",
      "6096/6096 [==============================] - 619s 101ms/step - loss: 0.5623 - accuracy: 0.8323 - val_loss: 0.5731 - val_accuracy: 0.8352\n",
      "Epoch 6/20\n",
      "6096/6096 [==============================] - 622s 102ms/step - loss: 0.4924 - accuracy: 0.8507 - val_loss: 0.5349 - val_accuracy: 0.8430\n",
      "Epoch 7/20\n",
      "6096/6096 [==============================] - 615s 101ms/step - loss: 0.4464 - accuracy: 0.8639 - val_loss: 0.5150 - val_accuracy: 0.8487\n",
      "Epoch 8/20\n",
      "6096/6096 [==============================] - 624s 102ms/step - loss: 0.4101 - accuracy: 0.8740 - val_loss: 0.5084 - val_accuracy: 0.8551\n",
      "Epoch 9/20\n",
      "6096/6096 [==============================] - 622s 102ms/step - loss: 0.3871 - accuracy: 0.8805 - val_loss: 0.4572 - val_accuracy: 0.8683\n",
      "Epoch 10/20\n",
      "6096/6096 [==============================] - 616s 101ms/step - loss: 0.3690 - accuracy: 0.8859 - val_loss: 0.4346 - val_accuracy: 0.8702\n",
      "Epoch 11/20\n",
      "6096/6096 [==============================] - 623s 102ms/step - loss: 0.3517 - accuracy: 0.8898 - val_loss: 0.4407 - val_accuracy: 0.8736\n",
      "Epoch 12/20\n",
      "6096/6096 [==============================] - 622s 102ms/step - loss: 0.3379 - accuracy: 0.8940 - val_loss: 0.4067 - val_accuracy: 0.8812\n",
      "Epoch 13/20\n",
      "6096/6096 [==============================] - 626s 103ms/step - loss: 0.3259 - accuracy: 0.8972 - val_loss: 0.4003 - val_accuracy: 0.8835\n",
      "Epoch 14/20\n",
      "6096/6096 [==============================] - 621s 102ms/step - loss: 0.3180 - accuracy: 0.8992 - val_loss: 0.4060 - val_accuracy: 0.8824\n",
      "Epoch 15/20\n",
      "6096/6096 [==============================] - 623s 102ms/step - loss: 0.3038 - accuracy: 0.9036 - val_loss: 0.3810 - val_accuracy: 0.8888\n",
      "Epoch 16/20\n",
      "6096/6096 [==============================] - 622s 102ms/step - loss: 0.2972 - accuracy: 0.9059 - val_loss: 0.3902 - val_accuracy: 0.8884\n",
      "Epoch 17/20\n",
      "6096/6096 [==============================] - 620s 102ms/step - loss: 0.2884 - accuracy: 0.9078 - val_loss: 0.4061 - val_accuracy: 0.8865\n",
      "Epoch 18/20\n",
      "6096/6096 [==============================] - 622s 102ms/step - loss: 0.2836 - accuracy: 0.9091 - val_loss: 0.3864 - val_accuracy: 0.8886\n"
     ]
    }
   ],
   "source": [
    "early_stop = tf.keras.callbacks.EarlyStopping(patience=3, restore_best_weights=True)\n",
    "history = model.fit(X_train, y_train, epochs=20, validation_data=(X_val, y_val), callbacks=[early_stop])"
   ]
  },
  {
   "cell_type": "code",
   "execution_count": 18,
   "id": "2033f9f0-5a16-40b7-872f-465d1f19ebf2",
   "metadata": {},
   "outputs": [
    {
     "name": "stdout",
     "output_type": "stream",
     "text": [
      "1694/1694 [==============================] - 76s 45ms/step - loss: 0.3879 - accuracy: 0.8880\n"
     ]
    },
    {
     "data": {
      "text/plain": [
       "[0.3879428505897522, 0.8879722356796265]"
      ]
     },
     "execution_count": 18,
     "metadata": {},
     "output_type": "execute_result"
    }
   ],
   "source": [
    "model.evaluate(X_test, y_test)"
   ]
  },
  {
   "cell_type": "code",
   "execution_count": 19,
   "id": "0d604902-da61-451e-811e-53cd38f509db",
   "metadata": {},
   "outputs": [],
   "source": [
    "from sklearn.metrics import accuracy_score, precision_recall_fscore_support\n",
    "\n",
    "def calculate_results(y_true, y_pred):\n",
    "  \"\"\"\n",
    "  Calculates model accuracy, precision, recall and f1 score of a binary classification model.\n",
    "\n",
    "  Args:\n",
    "  -----\n",
    "  y_true = true labels in the form of a 1D array\n",
    "  y_pred = predicted labels in the form of a 1D array\n",
    "\n",
    "  Returns a dictionary of accuracy, precision, recall, f1-score.\n",
    "  \"\"\"\n",
    "  # Calculate model accuracy\n",
    "  model_accuracy = accuracy_score(y_true, y_pred)\n",
    "  # Calculate model precision, recall and f1 score using \"weighted\" average\n",
    "  model_precision, model_recall, model_f1, _ = precision_recall_fscore_support(y_true, y_pred, average=\"weighted\")\n",
    "  model_results = {\"accuracy\": model_accuracy,\n",
    "                  \"precision\": model_precision,\n",
    "                  \"recall\": model_recall,\n",
    "                  \"f1\": model_f1}\n",
    "  return model_results"
   ]
  },
  {
   "cell_type": "code",
   "execution_count": 20,
   "id": "a7b1ad8d-26ec-4192-8cc7-bf94f3642e50",
   "metadata": {},
   "outputs": [
    {
     "name": "stdout",
     "output_type": "stream",
     "text": [
      "1694/1694 [==============================] - 77s 45ms/step\n"
     ]
    },
    {
     "data": {
      "text/plain": [
       "{'accuracy': 0.8879722422161933,\n",
       " 'precision': 0.8839409687239201,\n",
       " 'recall': 0.8879722422161933,\n",
       " 'f1': 0.8845762700757658}"
      ]
     },
     "execution_count": 20,
     "metadata": {},
     "output_type": "execute_result"
    }
   ],
   "source": [
    "pred_probs = model.predict(X_test)\n",
    "preds = tf.argmax(pred_probs, axis=1)\n",
    "results = calculate_results(y_test, preds)\n",
    "results"
   ]
  },
  {
   "cell_type": "code",
   "execution_count": 22,
   "id": "94a7e8e5-7eee-4e02-99b8-581ba736d6c1",
   "metadata": {},
   "outputs": [
    {
     "data": {
      "text/plain": [
       "<Axes: >"
      ]
     },
     "execution_count": 22,
     "metadata": {},
     "output_type": "execute_result"
    },
    {
     "data": {
      "image/png": "[encoded data removed]",
      "text/plain": [
       "<Figure size 1300x800 with 2 Axes>"
      ]
     },
     "metadata": {},
     "output_type": "display_data"
    }
   ],
   "source": [
    "from sklearn.metrics import confusion_matrix\n",
    "conf_mat = confusion_matrix(y_test, preds)\n",
    "fig , ax = plt.subplots()\n",
    "fig.set_size_inches(13, 8)\n",
    "sns.heatmap(conf_mat, cmap=\"Blues\")"
   ]
  },
  {
   "cell_type": "code",
   "execution_count": 26,
   "id": "363abb38-8dba-427d-8c18-0f36f4285d83",
   "metadata": {},
   "outputs": [
    {
     "name": "stdout",
     "output_type": "stream",
     "text": [
      "                                         precision    recall  f1-score   support\n",
      "\n",
      "                          CELL ADHESION       0.93      0.95      0.94      1708\n",
      "                             CELL CYCLE       0.91      0.95      0.93      1685\n",
      "                              CHAPERONE       0.96      0.94      0.95      1729\n",
      "                        DE NOVO PROTEIN       0.99      0.97      0.98      1682\n",
      "                    DNA BINDING PROTEIN       0.92      0.98      0.95      1705\n",
      "                     ELECTRON TRANSPORT       0.98      0.84      0.90      1628\n",
      "                        GENE REGULATION       0.93      0.96      0.95      1646\n",
      "                              HYDROLASE       0.56      0.37      0.45      1783\n",
      "          HYDROLASE/HYDROLASE INHIBITOR       0.84      0.88      0.86      1661\n",
      "                          IMMUNE SYSTEM       0.89      0.80      0.84      1685\n",
      "                              ISOMERASE       0.93      0.93      0.93      1683\n",
      "                                 LIGASE       0.92      0.93      0.93      1679\n",
      "                                  LYASE       0.90      0.88      0.89      1728\n",
      "                       MEMBRANE PROTEIN       0.90      0.93      0.92      1687\n",
      "                  METAL BINDING PROTEIN       0.91      0.93      0.92      1686\n",
      "                         OXIDOREDUCTASE       0.73      0.66      0.70      1633\n",
      "OXIDOREDUCTASE/OXIDOREDUCTASE INHIBITOR       0.93      0.99      0.96      1699\n",
      "                         PHOTOSYNTHESIS       0.86      0.98      0.91      1757\n",
      "                        PROTEIN BINDING       0.84      0.89      0.86      1686\n",
      "                      PROTEIN TRANSPORT       0.93      0.96      0.95      1662\n",
      "                    RNA BINDING PROTEIN       0.97      0.96      0.96      1720\n",
      "                      SIGNALING PROTEIN       0.88      0.84      0.86      1691\n",
      "  STRUCTURAL GENOMICS, UNKNOWN FUNCTION       0.89      0.94      0.91      1680\n",
      "                     STRUCTURAL PROTEIN       0.95      0.94      0.94      1655\n",
      "                  SUGAR BINDING PROTEIN       0.93      0.99      0.96      1681\n",
      "                                  TOXIN       0.96      0.97      0.97      1746\n",
      "                          TRANSCRIPTION       0.87      0.81      0.84      1657\n",
      "                            TRANSFERASE       0.53      0.51      0.52      1734\n",
      "      TRANSFERASE/TRANSFERASE INHIBITOR       0.88      0.94      0.91      1729\n",
      "                      TRANSPORT PROTEIN       0.86      0.89      0.87      1673\n",
      "                       UNKNOWN FUNCTION       0.89      0.96      0.92      1695\n",
      "                          VIRAL PROTEIN       0.95      0.95      0.95      1710\n",
      "\n",
      "                               accuracy                           0.89     54183\n",
      "                              macro avg       0.88      0.89      0.89     54183\n",
      "                           weighted avg       0.88      0.89      0.88     54183\n",
      "\n"
     ]
    }
   ],
   "source": [
    "from sklearn.metrics import classification_report\n",
    "print(classification_report(y_test, preds, target_names=class_names))"
   ]
  },
  {
   "cell_type": "code",
   "execution_count": null,
   "id": "304e8592-ec26-4517-a9fd-9d0e9c2b0fb2",
   "metadata": {},
   "outputs": [],
   "source": []
  }
 ],
 "metadata": {
  "kernelspec": {
   "display_name": "Python 3 (ipykernel)",
   "language": "python",
   "name": "python3"
  },
  "language_info": {
   "codemirror_mode": {
    "name": "ipython",
    "version": 3
   },
   "file_extension": ".py",
   "mimetype": "text/x-python",
   "name": "python",
   "nbconvert_exporter": "python",
   "pygments_lexer": "ipython3",
   "version": "3.10.18"
  }
 },
 "nbformat": 4,
 "nbformat_minor": 5
}
