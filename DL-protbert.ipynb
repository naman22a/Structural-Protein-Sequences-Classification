{
 "cells": [
  {
   "cell_type": "code",
   "execution_count": 1,
   "id": "dfd9ca6a-70cc-4927-885a-11b7a062cf76",
   "metadata": {},
   "outputs": [],
   "source": [
    "import pandas as pd\n",
    "import matplotlib.pyplot as plt\n",
    "import seaborn as sns"
   ]
  },
  {
   "cell_type": "code",
   "execution_count": 2,
   "id": "5b94da3e-043d-4657-8abb-df0d13329a6c",
   "metadata": {},
   "outputs": [
    {
     "data": {
      "text/html": [
       "<div>\n",
       "<style scoped>\n",
       "    .dataframe tbody tr th:only-of-type {\n",
       "        vertical-align: middle;\n",
       "    }\n",
       "\n",
       "    .dataframe tbody tr th {\n",
       "        vertical-align: top;\n",
       "    }\n",
       "\n",
       "    .dataframe thead th {\n",
       "        text-align: right;\n",
       "    }\n",
       "</style>\n",
       "<table border=\"1\" class=\"dataframe\">\n",
       "  <thead>\n",
       "    <tr style=\"text-align: right;\">\n",
       "      <th></th>\n",
       "      <th>sequence</th>\n",
       "      <th>classification</th>\n",
       "    </tr>\n",
       "  </thead>\n",
       "  <tbody>\n",
       "    <tr>\n",
       "      <th>71573</th>\n",
       "      <td>XEWEALEKKLAALESKXQALEKKLEALEHGX</td>\n",
       "      <td>DE NOVO PROTEIN</td>\n",
       "    </tr>\n",
       "    <tr>\n",
       "      <th>257713</th>\n",
       "      <td>GPGSMSIPTLNPTVALVAIDLQNGIVVLPMVPQSGGDVVAKTAELA...</td>\n",
       "      <td>UNKNOWN FUNCTION</td>\n",
       "    </tr>\n",
       "    <tr>\n",
       "      <th>169619</th>\n",
       "      <td>ALLSFERKYRVPGGTLVGGNLFDFWVGPFYVGFFGVATFFFAALGI...</td>\n",
       "      <td>PHOTOSYNTHESIS</td>\n",
       "    </tr>\n",
       "    <tr>\n",
       "      <th>13661</th>\n",
       "      <td>MGHHHHHHSGEDEQQEQTIAEDLVVTKYKMGGDIANRVLRSLVEAS...</td>\n",
       "      <td>TRANSCRIPTION</td>\n",
       "    </tr>\n",
       "    <tr>\n",
       "      <th>60685</th>\n",
       "      <td>XFMAFWEXLX</td>\n",
       "      <td>CELL CYCLE</td>\n",
       "    </tr>\n",
       "  </tbody>\n",
       "</table>\n",
       "</div>"
      ],
      "text/plain": [
       "                                                 sequence    classification\n",
       "71573                     XEWEALEKKLAALESKXQALEKKLEALEHGX   DE NOVO PROTEIN\n",
       "257713  GPGSMSIPTLNPTVALVAIDLQNGIVVLPMVPQSGGDVVAKTAELA...  UNKNOWN FUNCTION\n",
       "169619  ALLSFERKYRVPGGTLVGGNLFDFWVGPFYVGFFGVATFFFAALGI...    PHOTOSYNTHESIS\n",
       "13661   MGHHHHHHSGEDEQQEQTIAEDLVVTKYKMGGDIANRVLRSLVEAS...     TRANSCRIPTION\n",
       "60685                                          XFMAFWEXLX        CELL CYCLE"
      ]
     },
     "execution_count": 2,
     "metadata": {},
     "output_type": "execute_result"
    }
   ],
   "source": [
    "data = pd.read_csv('./data/protein_data.csv')\n",
    "from sklearn.model_selection import train_test_split\n",
    "\n",
    "df_sampled, _ = train_test_split(\n",
    "    data,\n",
    "    stratify=data['classification'],\n",
    "    # train_size=10_000,\n",
    "    train_size=20_000,\n",
    "    random_state=42\n",
    ")\n",
    "df_sampled.head()"
   ]
  },
  {
   "cell_type": "code",
   "execution_count": 3,
   "id": "9c3f4ad9-c17c-489f-a19d-cd9c8124f16a",
   "metadata": {},
   "outputs": [
    {
     "data": {
      "text/plain": [
       "20000"
      ]
     },
     "execution_count": 3,
     "metadata": {},
     "output_type": "execute_result"
    }
   ],
   "source": [
    "len(df_sampled)"
   ]
  },
  {
   "cell_type": "code",
   "execution_count": 4,
   "id": "85d33bcf-4ed1-4d7b-a3a2-ba69c7c28c9d",
   "metadata": {},
   "outputs": [
    {
     "data": {
      "text/plain": [
       "classification\n",
       "DE NOVO PROTEIN                            625\n",
       "UNKNOWN FUNCTION                           625\n",
       "SIGNALING PROTEIN                          625\n",
       "IMMUNE SYSTEM                              625\n",
       "STRUCTURAL GENOMICS, UNKNOWN FUNCTION      625\n",
       "OXIDOREDUCTASE/OXIDOREDUCTASE INHIBITOR    625\n",
       "CHAPERONE                                  625\n",
       "HYDROLASE                                  625\n",
       "LIGASE                                     625\n",
       "TRANSFERASE                                625\n",
       "GENE REGULATION                            625\n",
       "TRANSFERASE/TRANSFERASE INHIBITOR          625\n",
       "RNA BINDING PROTEIN                        625\n",
       "STRUCTURAL PROTEIN                         625\n",
       "PROTEIN TRANSPORT                          625\n",
       "CELL ADHESION                              625\n",
       "OXIDOREDUCTASE                             625\n",
       "PROTEIN BINDING                            625\n",
       "TRANSPORT PROTEIN                          625\n",
       "TOXIN                                      625\n",
       "DNA BINDING PROTEIN                        625\n",
       "VIRAL PROTEIN                              625\n",
       "METAL BINDING PROTEIN                      625\n",
       "SUGAR BINDING PROTEIN                      625\n",
       "MEMBRANE PROTEIN                           625\n",
       "ISOMERASE                                  625\n",
       "LYASE                                      625\n",
       "ELECTRON TRANSPORT                         625\n",
       "CELL CYCLE                                 625\n",
       "TRANSCRIPTION                              625\n",
       "PHOTOSYNTHESIS                             625\n",
       "HYDROLASE/HYDROLASE INHIBITOR              625\n",
       "Name: count, dtype: int64"
      ]
     },
     "execution_count": 4,
     "metadata": {},
     "output_type": "execute_result"
    }
   ],
   "source": [
    "df_sampled['classification'].value_counts()"
   ]
  },
  {
   "cell_type": "code",
   "execution_count": 5,
   "id": "b1db75d2-1cb6-48c3-908b-633f26172e0c",
   "metadata": {},
   "outputs": [],
   "source": [
    "X = df_sampled['sequence']\n",
    "y = df_sampled['classification']\n",
    "\n",
    "from sklearn.preprocessing import LabelEncoder\n",
    "le = LabelEncoder()\n",
    "y = le.fit_transform(y)\n",
    "class_names = le.classes_\n",
    "n_classes = len(class_names)\n",
    "\n",
    "from sklearn.model_selection import train_test_split\n",
    "X_train, X_test, y_train,y_test = train_test_split(X, y, test_size=0.2, random_state=42)\n",
    "X_train, X_val, y_train, y_val = train_test_split(X_train, y_train, test_size=0.1, random_state=42)"
   ]
  },
  {
   "cell_type": "code",
   "execution_count": 6,
   "id": "6db6e9cc-cee9-4a51-ba16-40c19923e0ae",
   "metadata": {},
   "outputs": [
    {
     "name": "stdout",
     "output_type": "stream",
     "text": [
      "Average character length: 241.07\n"
     ]
    }
   ],
   "source": [
    "avg_char_len = X_train.str.len().mean()\n",
    "print(f\"Average character length: {avg_char_len:.2f}\")"
   ]
  },
  {
   "cell_type": "code",
   "execution_count": 7,
   "id": "afae0115-e82b-400d-8397-820a1573c066",
   "metadata": {},
   "outputs": [],
   "source": [
    "from transformers import AutoTokenizer\n",
    "\n",
    "tokenizer = AutoTokenizer.from_pretrained(\"Rostlab/prot_bert\", do_lower_case=False)\n",
    "\n",
    "def preprocess_sequence(sequence):\n",
    "    return ' '.join(list(sequence.strip()))\n",
    "\n",
    "def tokenize_sequences(sequences, max_length=250):\n",
    "    sequences = [preprocess_sequence(seq) for seq in sequences]\n",
    "    return tokenizer(\n",
    "        sequences,\n",
    "        padding=True,\n",
    "        truncation=True,\n",
    "        max_length=max_length,\n",
    "        return_tensors=\"pt\"\n",
    "    )"
   ]
  },
  {
   "cell_type": "code",
   "execution_count": 8,
   "id": "f4971c02-b587-435d-945a-ae7c3c10320c",
   "metadata": {},
   "outputs": [],
   "source": [
    "import torch\n",
    "from torch.utils.data import Dataset, DataLoader\n",
    "\n",
    "class ProteinDataset(Dataset):\n",
    "    def __init__(self, sequences, labels, max_length=250):\n",
    "        self.labels = labels\n",
    "        tokenized = tokenize_sequences(sequences, max_length=max_length)\n",
    "        self.input_ids = tokenized[\"input_ids\"]\n",
    "        self.attention_mask = tokenized[\"attention_mask\"]\n",
    "\n",
    "    def __len__(self):\n",
    "        return len(self.labels)\n",
    "\n",
    "    def __getitem__(self, idx):\n",
    "        return {\n",
    "            \"input_ids\": self.input_ids[idx],\n",
    "            \"attention_mask\": self.attention_mask[idx],\n",
    "            \"labels\": torch.tensor(self.labels[idx], dtype=torch.long)\n",
    "        }\n",
    "\n",
    "train_dataset = ProteinDataset(X_train.tolist(), y_train.tolist())\n",
    "val_dataset = ProteinDataset(X_val.tolist(), y_val.tolist())\n",
    "test_dataset = ProteinDataset(X_test.tolist(), y_test.tolist())\n",
    "\n",
    "train_loader = DataLoader(train_dataset, batch_size=32, shuffle=True)\n",
    "val_loader = DataLoader(val_dataset, batch_size=32)"
   ]
  },
  {
   "cell_type": "code",
   "execution_count": 9,
   "id": "bf68f09d-5abf-411e-b847-5b6752b8161b",
   "metadata": {},
   "outputs": [],
   "source": [
    "import torch.nn as nn\n",
    "from transformers import BertModel\n",
    "\n",
    "class ProteinClassifier(nn.Module):\n",
    "    def __init__(self, num_labels):\n",
    "        super().__init__()\n",
    "        self.bert = BertModel.from_pretrained(\"Rostlab/prot_bert\")\n",
    "        self.dropout = nn.Dropout(0.3)\n",
    "        self.classifier = nn.Sequential(\n",
    "            nn.Linear(self.bert.config.hidden_size, 512),\n",
    "            nn.ReLU(),\n",
    "            nn.Dropout(0.3),\n",
    "            nn.Linear(512, 256),\n",
    "            nn.ReLU(),\n",
    "            nn.Dropout(0.3),\n",
    "            nn.Linear(256, num_labels)\n",
    "        )\n",
    "\n",
    "    def forward(self, input_ids, attention_mask):\n",
    "        outputs = self.bert(input_ids=input_ids, attention_mask=attention_mask)\n",
    "        pooled_output = outputs.pooler_output\n",
    "        x = self.dropout(pooled_output)\n",
    "        return self.classifier(x)\n"
   ]
  },
  {
   "cell_type": "code",
   "execution_count": 10,
   "id": "10ae0be9-356b-4d53-a0b4-756aa0aae565",
   "metadata": {},
   "outputs": [],
   "source": [
    "import torch\n",
    "import numpy as np\n",
    "\n",
    "class EarlyStopping:\n",
    "    def __init__(self, patience=3, delta=0, path=\"checkpoint.pt\", verbose=False):\n",
    "        \"\"\"\n",
    "        Args:\n",
    "            patience (int): How many epochs to wait after last improvement.\n",
    "            delta (float): Minimum change in monitored metric to qualify as improvement.\n",
    "            path (str): File path to save the best model.\n",
    "            verbose (bool): Print messages when improvement happens.\n",
    "        \"\"\"\n",
    "        self.patience = patience\n",
    "        self.delta = delta\n",
    "        self.path = path\n",
    "        self.verbose = verbose\n",
    "        self.counter = 0\n",
    "        self.best_score = None\n",
    "        self.early_stop = False\n",
    "        self.val_loss_min = np.Inf\n",
    "\n",
    "    def __call__(self, val_loss, model):\n",
    "        score = -val_loss\n",
    "\n",
    "        if self.best_score is None:\n",
    "            self.best_score = score\n",
    "            self.save_checkpoint(val_loss, model)\n",
    "        elif score < self.best_score + self.delta:\n",
    "            self.counter += 1\n",
    "            if self.verbose:\n",
    "                print(f\"EarlyStopping counter: {self.counter} out of {self.patience}\")\n",
    "            if self.counter >= self.patience:\n",
    "                self.early_stop = True\n",
    "        else:\n",
    "            self.best_score = score\n",
    "            self.save_checkpoint(val_loss, model)\n",
    "            self.counter = 0\n",
    "\n",
    "    def save_checkpoint(self, val_loss, model):\n",
    "        \"\"\"Saves model when validation loss decreases.\"\"\"\n",
    "        if self.verbose:\n",
    "            print(f\"Validation loss decreased ({self.val_loss_min:.6f} → {val_loss:.6f}). Saving model...\")\n",
    "        torch.save(model.state_dict(), self.path)\n",
    "        self.val_loss_min = val_loss"
   ]
  },
  {
   "cell_type": "code",
   "execution_count": null,
   "id": "4c383ba1-6921-4b45-9977-eb53c2704dcc",
   "metadata": {},
   "outputs": [
    {
     "name": "stdout",
     "output_type": "stream",
     "text": [
      "Epoch 1/20 | Train Loss: 1484.5001 | Train Acc: 0.0488 | Val Loss: 155.1551 | Val Acc: 0.0612 | Time: 525.06s\n",
      "Validation loss decreased (inf → 155.155098). Saving model...\n",
      "Epoch 2/20 | Train Loss: 1378.8210 | Train Acc: 0.0632 | Val Loss: 150.5361 | Val Acc: 0.0769 | Time: 524.51s\n",
      "Validation loss decreased (155.155098 → 150.536053). Saving model...\n",
      "Epoch 3/20 | Train Loss: 1333.6566 | Train Acc: 0.0762 | Val Loss: 147.4521 | Val Acc: 0.0737 | Time: 524.51s\n",
      "Validation loss decreased (150.536053 → 147.452092). Saving model...\n",
      "Epoch 4/20 | Train Loss: 1283.4258 | Train Acc: 0.1003 | Val Loss: 141.8492 | Val Acc: 0.0944 | Time: 524.49s\n",
      "Validation loss decreased (147.452092 → 141.849228). Saving model...\n",
      "Epoch 5/20 | Train Loss: 1207.8602 | Train Acc: 0.1357 | Val Loss: 135.3145 | Val Acc: 0.1581 | Time: 524.79s\n",
      "Validation loss decreased (141.849228 → 135.314501). Saving model...\n",
      "Epoch 6/20 | Train Loss: 1136.0747 | Train Acc: 0.1678 | Val Loss: 131.0231 | Val Acc: 0.1856 | Time: 524.70s\n",
      "Validation loss decreased (135.314501 → 131.023117). Saving model...\n",
      "Epoch 7/20 | Train Loss: 1080.0464 | Train Acc: 0.1901 | Val Loss: 130.2396 | Val Acc: 0.2112 | Time: 524.58s\n",
      "Validation loss decreased (131.023117 → 130.239601). Saving model...\n",
      "Epoch 8/20 | Train Loss: 1023.5362 | Train Acc: 0.2194 | Val Loss: 126.6786 | Val Acc: 0.2369 | Time: 524.73s\n",
      "Validation loss decreased (130.239601 → 126.678633). Saving model...\n",
      "Epoch 9/20 | Train Loss: 984.8748 | Train Acc: 0.2331 | Val Loss: 124.7201 | Val Acc: 0.2487 | Time: 525.24s\n",
      "Validation loss decreased (126.678633 → 124.720139). Saving model...\n",
      "Epoch 10/20 | Train Loss: 940.2596 | Train Acc: 0.2625 | Val Loss: 125.5427 | Val Acc: 0.2906 | Time: 532.12s\n",
      "EarlyStopping counter: 1 out of 5\n",
      "Epoch 11/20 | Train Loss: 904.2766 | Train Acc: 0.2772 | Val Loss: 127.4051 | Val Acc: 0.2938 | Time: 529.86s\n",
      "EarlyStopping counter: 2 out of 5\n",
      "Epoch 12/20 | Train Loss: 875.3698 | Train Acc: 0.2928 | Val Loss: 127.8511 | Val Acc: 0.3050 | Time: 530.46s\n",
      "EarlyStopping counter: 3 out of 5\n",
      "Epoch 13/20 | Train Loss: 845.8580 | Train Acc: 0.3098 | Val Loss: 129.9095 | Val Acc: 0.2950 | Time: 525.05s\n",
      "EarlyStopping counter: 4 out of 5\n",
      "Epoch 14/20 | Train Loss: 823.4914 | Train Acc: 0.3239 | Val Loss: 130.9052 | Val Acc: 0.3325 | Time: 524.53s\n",
      "EarlyStopping counter: 5 out of 5\n",
      "Early stopping triggered!\n"
     ]
    }
   ],
   "source": [
    "import time\n",
    "from sklearn.metrics import accuracy_score\n",
    "from torch.optim import AdamW\n",
    "\n",
    "device = torch.device(\"cuda\" if torch.cuda.is_available() else \"cpu\")\n",
    "model = ProteinClassifier(num_labels=n_classes).to(device)\n",
    "\n",
    "# Freeze BERT encoder\n",
    "# for param in model.bert.parameters():\n",
    "#     param.requires_grad = False\n",
    "for name, param in model.bert.named_parameters():\n",
    "    if \"encoder.layer.28\" in name or \"encoder.layer.29\" in name or \"encoder.layer.30\" in name or \"encoder.layer.31\" in name:\n",
    "        param.requires_grad = True   # unfreeze last 4 layers\n",
    "    else:\n",
    "        param.requires_grad = False\n",
    "\n",
    "# optimizer = torch.optim.AdamW(model.parameters(), lr=1e-3)\n",
    "optimizer = AdamW([\n",
    "    {\"params\": model.bert.parameters(), \"lr\": 2e-5},        # pretrained encoder (small LR)\n",
    "    {\"params\": model.classifier.parameters(), \"lr\": 1e-4},  # classifier head (larger LR)\n",
    "], weight_decay=0.01)\n",
    "criterion = nn.CrossEntropyLoss()\n",
    "\n",
    "EPOCHS = 20\n",
    "\n",
    "# History dictionary\n",
    "history = {\n",
    "    'train_loss': [],\n",
    "    'train_acc': [],\n",
    "    'val_loss': [],\n",
    "    'val_acc': [],\n",
    "    'epoch_time': []\n",
    "}\n",
    "\n",
    "early_stopping = EarlyStopping(patience=5, verbose=True, path=\"./models/protbert.pt\")\n",
    "\n",
    "for epoch in range(EPOCHS):\n",
    "    start_time = time.time()\n",
    "    model.train()\n",
    "    total_loss = 0\n",
    "    all_train_preds = []\n",
    "    all_train_labels = []\n",
    "\n",
    "    for batch in train_loader:\n",
    "        input_ids = batch[\"input_ids\"].to(device)\n",
    "        attention_mask = batch[\"attention_mask\"].to(device)\n",
    "        labels = batch[\"labels\"].to(device)\n",
    "\n",
    "        optimizer.zero_grad()\n",
    "        outputs = model(input_ids, attention_mask)\n",
    "        loss = criterion(outputs, labels)\n",
    "        loss.backward()\n",
    "        optimizer.step()\n",
    "        total_loss += loss.item()\n",
    "\n",
    "        preds = torch.argmax(outputs, dim=1)\n",
    "        all_train_preds.extend(preds.cpu().numpy())\n",
    "        all_train_labels.extend(labels.cpu().numpy())\n",
    "\n",
    "    train_acc = accuracy_score(all_train_labels, all_train_preds)\n",
    "\n",
    "    model.eval()\n",
    "    val_loss = 0\n",
    "    all_val_preds = []\n",
    "    all_val_labels = []\n",
    "\n",
    "    with torch.no_grad():\n",
    "        for batch in val_loader:\n",
    "            input_ids = batch[\"input_ids\"].to(device)\n",
    "            attention_mask = batch[\"attention_mask\"].to(device)\n",
    "            labels = batch[\"labels\"].to(device)\n",
    "\n",
    "            outputs = model(input_ids, attention_mask)\n",
    "            loss = criterion(outputs, labels)\n",
    "            val_loss += loss.item()\n",
    "\n",
    "            preds = torch.argmax(outputs, dim=1)\n",
    "            all_val_preds.extend(preds.cpu().numpy())\n",
    "            all_val_labels.extend(labels.cpu().numpy())\n",
    "\n",
    "    val_acc = accuracy_score(all_val_labels, all_val_preds)\n",
    "    elapsed = time.time() - start_time\n",
    "\n",
    "    print(f\"Epoch {epoch+1}/{EPOCHS} | Train Loss: {total_loss:.4f} | Train Acc: {train_acc:.4f} | \"\n",
    "          f\"Val Loss: {val_loss:.4f} | Val Acc: {val_acc:.4f} | Time: {elapsed:.2f}s\")\n",
    "\n",
    "    # Save to history\n",
    "    history['train_loss'].append(total_loss)\n",
    "    history['train_acc'].append(train_acc)\n",
    "    history['val_loss'].append(val_loss)\n",
    "    history['val_acc'].append(val_acc)\n",
    "    history['epoch_time'].append(elapsed)\n",
    "\n",
    "    early_stopping(val_loss, model)\n",
    "\n",
    "    if early_stopping.early_stop:\n",
    "        print(\"Early stopping triggered!\")\n",
    "        break\n"
   ]
  },
  {
   "cell_type": "code",
   "execution_count": 12,
   "id": "6666f2f7-8579-4763-a27a-259250f90e58",
   "metadata": {},
   "outputs": [
    {
     "data": {
      "image/png": "[encoded data removed]",
      "text/plain": [
       "<Figure size 640x480 with 1 Axes>"
      ]
     },
     "metadata": {},
     "output_type": "display_data"
    }
   ],
   "source": [
    "import matplotlib.pyplot as plt\n",
    "\n",
    "plt.plot(history['train_loss'], label='Train Loss', marker='o')\n",
    "plt.plot(history['val_loss'], label='Val Loss', marker='o')\n",
    "plt.legend()\n",
    "plt.title(\"Loss Curve\")\n",
    "plt.xlabel(\"Epoch\")\n",
    "plt.ylabel(\"Loss\")\n",
    "plt.grid(True)\n",
    "plt.show()"
   ]
  },
  {
   "cell_type": "code",
   "execution_count": 13,
   "id": "ce9d5f90-64a5-4838-9e3a-0e373be5b062",
   "metadata": {},
   "outputs": [
    {
     "data": {
      "image/png": "[encoded data removed]",
      "text/plain": [
       "<Figure size 800x500 with 1 Axes>"
      ]
     },
     "metadata": {},
     "output_type": "display_data"
    }
   ],
   "source": [
    "plt.figure(figsize=(8, 5))\n",
    "plt.plot(history['train_acc'], label='Train Accuracy', marker='o')\n",
    "plt.plot(history['val_acc'], label='Val Accuracy', marker='o')\n",
    "plt.title(\"Accuracy per Epoch\")\n",
    "plt.xlabel(\"Epoch\")\n",
    "plt.ylabel(\"Accuracy\")\n",
    "plt.legend()\n",
    "plt.grid(True)\n",
    "plt.tight_layout()\n",
    "plt.show()"
   ]
  },
  {
   "cell_type": "code",
   "execution_count": 14,
   "id": "fb9b8e5e-244d-47ac-a4b2-c2f7ad90b619",
   "metadata": {},
   "outputs": [
    {
     "name": "stdout",
     "output_type": "stream",
     "text": [
      "Test Accuracy: 0.2915\n"
     ]
    }
   ],
   "source": [
    "test_loader = DataLoader(test_dataset, batch_size=8)\n",
    "\n",
    "model.eval()\n",
    "test_preds = []\n",
    "test_labels = []\n",
    "\n",
    "with torch.no_grad():\n",
    "    for batch in test_loader:\n",
    "        input_ids = batch[\"input_ids\"].to(device)\n",
    "        attention_mask = batch[\"attention_mask\"].to(device)\n",
    "        labels = batch[\"labels\"].to(device)\n",
    "\n",
    "        outputs = model(input_ids, attention_mask)\n",
    "        preds = torch.argmax(outputs, dim=1)\n",
    "        test_preds.extend(preds.cpu().numpy())\n",
    "        test_labels.extend(labels.cpu().numpy())\n",
    "\n",
    "test_acc = accuracy_score(test_labels, test_preds)\n",
    "print(f\"Test Accuracy: {test_acc:.4f}\")"
   ]
  },
  {
   "cell_type": "code",
   "execution_count": 15,
   "id": "f9adef9c-8ec3-49fa-9b71-f1e2217bd7e1",
   "metadata": {},
   "outputs": [],
   "source": [
    "from sklearn.metrics import classification_report, confusion_matrix"
   ]
  },
  {
   "cell_type": "code",
   "execution_count": 16,
   "id": "22c0d808-c4ec-4e30-983d-3104932c0c0b",
   "metadata": {},
   "outputs": [
    {
     "name": "stdout",
     "output_type": "stream",
     "text": [
      "              precision    recall  f1-score   support\n",
      "\n",
      "           0       0.35      0.61      0.44       119\n",
      "           1       0.20      0.48      0.28       128\n",
      "           2       0.19      0.12      0.15       127\n",
      "           3       0.81      0.81      0.81       119\n",
      "           4       0.24      0.27      0.26       132\n",
      "           5       0.38      0.08      0.13       123\n",
      "           6       0.34      0.62      0.44       133\n",
      "           7       0.00      0.00      0.00       120\n",
      "           8       0.23      0.28      0.25       147\n",
      "           9       0.00      0.00      0.00       123\n",
      "          10       0.42      0.24      0.30       140\n",
      "          11       0.27      0.46      0.34       111\n",
      "          12       0.21      0.32      0.25       104\n",
      "          13       0.00      0.00      0.00       127\n",
      "          14       0.21      0.24      0.22       128\n",
      "          15       0.29      0.22      0.25       132\n",
      "          16       0.58      0.78      0.66       123\n",
      "          17       0.50      0.96      0.66       120\n",
      "          18       0.00      0.00      0.00       125\n",
      "          19       0.16      0.11      0.13       123\n",
      "          20       0.33      0.60      0.43       134\n",
      "          21       0.10      0.20      0.13       122\n",
      "          22       0.18      0.12      0.14       117\n",
      "          23       0.00      0.00      0.00       150\n",
      "          24       0.43      0.42      0.43        95\n",
      "          25       0.24      0.64      0.35       120\n",
      "          26       0.18      0.23      0.20       126\n",
      "          27       0.00      0.00      0.00       123\n",
      "          28       0.22      0.62      0.33       125\n",
      "          29       0.14      0.07      0.09       120\n",
      "          30       0.00      0.00      0.00       133\n",
      "          31       0.00      0.00      0.00       131\n",
      "\n",
      "    accuracy                           0.29      4000\n",
      "   macro avg       0.23      0.30      0.24      4000\n",
      "weighted avg       0.22      0.29      0.24      4000\n",
      "\n"
     ]
    },
    {
     "name": "stderr",
     "output_type": "stream",
     "text": [
      "C:\\Users\\user\\anaconda3\\envs\\ai\\lib\\site-packages\\sklearn\\metrics\\_classification.py:1565: UndefinedMetricWarning: Precision is ill-defined and being set to 0.0 in labels with no predicted samples. Use `zero_division` parameter to control this behavior.\n",
      "  _warn_prf(average, modifier, f\"{metric.capitalize()} is\", len(result))\n",
      "C:\\Users\\user\\anaconda3\\envs\\ai\\lib\\site-packages\\sklearn\\metrics\\_classification.py:1565: UndefinedMetricWarning: Precision is ill-defined and being set to 0.0 in labels with no predicted samples. Use `zero_division` parameter to control this behavior.\n",
      "  _warn_prf(average, modifier, f\"{metric.capitalize()} is\", len(result))\n",
      "C:\\Users\\user\\anaconda3\\envs\\ai\\lib\\site-packages\\sklearn\\metrics\\_classification.py:1565: UndefinedMetricWarning: Precision is ill-defined and being set to 0.0 in labels with no predicted samples. Use `zero_division` parameter to control this behavior.\n",
      "  _warn_prf(average, modifier, f\"{metric.capitalize()} is\", len(result))\n"
     ]
    }
   ],
   "source": [
    "print(classification_report(test_labels, test_preds))"
   ]
  },
  {
   "cell_type": "code",
   "execution_count": 17,
   "id": "0bae3b01-8356-405f-a2fd-fec5fe178743",
   "metadata": {},
   "outputs": [
    {
     "data": {
      "image/png": "[encoded data removed]",
      "text/plain": [
       "<Figure size 1000x700 with 2 Axes>"
      ]
     },
     "metadata": {},
     "output_type": "display_data"
    }
   ],
   "source": [
    "cm = confusion_matrix(test_labels, test_preds)\n",
    "plt.figure(figsize=(10,7))\n",
    "sns.heatmap(cm, cmap='Blues');"
   ]
  },
  {
   "cell_type": "code",
   "execution_count": 14,
   "id": "6fc4d150-60e2-41ff-81da-406577f806c4",
   "metadata": {},
   "outputs": [
    {
     "data": {
      "text/plain": [
       "ProteinClassifier(\n",
       "  (bert): BertModel(\n",
       "    (embeddings): BertEmbeddings(\n",
       "      (word_embeddings): Embedding(30, 1024, padding_idx=0)\n",
       "      (position_embeddings): Embedding(40000, 1024)\n",
       "      (token_type_embeddings): Embedding(2, 1024)\n",
       "      (LayerNorm): LayerNorm((1024,), eps=1e-12, elementwise_affine=True)\n",
       "      (dropout): Dropout(p=0.0, inplace=False)\n",
       "    )\n",
       "    (encoder): BertEncoder(\n",
       "      (layer): ModuleList(\n",
       "        (0-29): 30 x BertLayer(\n",
       "          (attention): BertAttention(\n",
       "            (self): BertSdpaSelfAttention(\n",
       "              (query): Linear(in_features=1024, out_features=1024, bias=True)\n",
       "              (key): Linear(in_features=1024, out_features=1024, bias=True)\n",
       "              (value): Linear(in_features=1024, out_features=1024, bias=True)\n",
       "              (dropout): Dropout(p=0.0, inplace=False)\n",
       "            )\n",
       "            (output): BertSelfOutput(\n",
       "              (dense): Linear(in_features=1024, out_features=1024, bias=True)\n",
       "              (LayerNorm): LayerNorm((1024,), eps=1e-12, elementwise_affine=True)\n",
       "              (dropout): Dropout(p=0.0, inplace=False)\n",
       "            )\n",
       "          )\n",
       "          (intermediate): BertIntermediate(\n",
       "            (dense): Linear(in_features=1024, out_features=4096, bias=True)\n",
       "            (intermediate_act_fn): GELUActivation()\n",
       "          )\n",
       "          (output): BertOutput(\n",
       "            (dense): Linear(in_features=4096, out_features=1024, bias=True)\n",
       "            (LayerNorm): LayerNorm((1024,), eps=1e-12, elementwise_affine=True)\n",
       "            (dropout): Dropout(p=0.0, inplace=False)\n",
       "          )\n",
       "        )\n",
       "      )\n",
       "    )\n",
       "    (pooler): BertPooler(\n",
       "      (dense): Linear(in_features=1024, out_features=1024, bias=True)\n",
       "      (activation): Tanh()\n",
       "    )\n",
       "  )\n",
       "  (dropout): Dropout(p=0.3, inplace=False)\n",
       "  (classifier): Sequential(\n",
       "    (0): Linear(in_features=1024, out_features=512, bias=True)\n",
       "    (1): ReLU()\n",
       "    (2): Dropout(p=0.3, inplace=False)\n",
       "    (3): Linear(in_features=512, out_features=256, bias=True)\n",
       "    (4): ReLU()\n",
       "    (5): Dropout(p=0.3, inplace=False)\n",
       "    (6): Linear(in_features=256, out_features=32, bias=True)\n",
       "  )\n",
       ")"
      ]
     },
     "execution_count": 14,
     "metadata": {},
     "output_type": "execute_result"
    }
   ],
   "source": [
    "import torch\n",
    "device = torch.device(\"cuda\" if torch.cuda.is_available() else \"cpu\")\n",
    "model = ProteinClassifier(num_labels=32)\n",
    "model.load_state_dict(torch.load(\"./models/protbert.pt\", map_location=device))\n",
    "model.to(device)\n",
    "model.eval()"
   ]
  },
  {
   "cell_type": "code",
   "execution_count": 16,
   "id": "75e1e18a-5bb3-4c73-9d57-0ea270f945b9",
   "metadata": {},
   "outputs": [],
   "source": [
    "y_preds = []\n",
    "y_true = []\n",
    "\n",
    "test_loader = DataLoader(test_dataset, batch_size=8)\n",
    "with torch.no_grad():\n",
    "    for batch in test_loader:\n",
    "        input_ids = batch[\"input_ids\"].to(device)\n",
    "        attention_mask = batch[\"attention_mask\"].to(device)\n",
    "        labels = batch[\"labels\"].to(device)\n",
    "\n",
    "        outputs = model(input_ids=input_ids, attention_mask=attention_mask)\n",
    "        _, preds = torch.max(outputs, dim=1)\n",
    "\n",
    "        y_preds.extend(preds.cpu().numpy())\n",
    "        y_true.extend(labels.cpu().numpy())"
   ]
  },
  {
   "cell_type": "code",
   "execution_count": 17,
   "id": "2f7c50da-3c71-426d-a126-7a3aef6e2017",
   "metadata": {},
   "outputs": [
    {
     "name": "stdout",
     "output_type": "stream",
     "text": [
      "Accuracy: 0.2325\n",
      "Precision: 0.1590\n",
      "Recall: 0.2325\n",
      "F1 Score: 0.1766\n"
     ]
    },
    {
     "name": "stderr",
     "output_type": "stream",
     "text": [
      "C:\\Users\\user\\anaconda3\\envs\\ai\\lib\\site-packages\\sklearn\\metrics\\_classification.py:1565: UndefinedMetricWarning: Precision is ill-defined and being set to 0.0 in labels with no predicted samples. Use `zero_division` parameter to control this behavior.\n",
      "  _warn_prf(average, modifier, f\"{metric.capitalize()} is\", len(result))\n"
     ]
    }
   ],
   "source": [
    "from sklearn.metrics import accuracy_score, precision_score, recall_score, f1_score, classification_report\n",
    "\n",
    "accuracy = accuracy_score(y_true, y_preds)\n",
    "precision = precision_score(y_true, y_preds, average=\"weighted\")\n",
    "recall = recall_score(y_true, y_preds, average=\"weighted\")\n",
    "f1 = f1_score(y_true, y_preds, average=\"weighted\")\n",
    "\n",
    "print(f\"Accuracy: {accuracy:.4f}\")\n",
    "print(f\"Precision: {precision:.4f}\")\n",
    "print(f\"Recall: {recall:.4f}\")\n",
    "print(f\"F1 Score: {f1:.4f}\")"
   ]
  },
  {
   "cell_type": "code",
   "execution_count": null,
   "id": "86b3d619-f331-4a84-b9ac-e0b84536d53f",
   "metadata": {},
   "outputs": [],
   "source": []
  }
 ],
 "metadata": {
  "kernelspec": {
   "display_name": "Python 3 (ipykernel)",
   "language": "python",
   "name": "python3"
  },
  "language_info": {
   "codemirror_mode": {
    "name": "ipython",
    "version": 3
   },
   "file_extension": ".py",
   "mimetype": "text/x-python",
   "name": "python",
   "nbconvert_exporter": "python",
   "pygments_lexer": "ipython3",
   "version": "3.10.18"
  }
 },
 "nbformat": 4,
 "nbformat_minor": 5
}
