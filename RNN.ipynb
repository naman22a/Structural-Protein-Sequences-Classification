{
 "cells": [
  {
   "cell_type": "code",
   "execution_count": 1,
   "id": "f8904d2e-85d0-4cf5-b8ea-fb45bfe30c83",
   "metadata": {},
   "outputs": [],
   "source": [
    "import pandas as pd\n",
    "import matplotlib.pyplot as plt\n",
    "import seaborn as sns"
   ]
  },
  {
   "cell_type": "code",
   "execution_count": 2,
   "id": "1e16bdfe-7945-4692-ad6e-f42b478c4a9b",
   "metadata": {},
   "outputs": [
    {
     "data": {
      "text/html": [
       "<div>\n",
       "<style scoped>\n",
       "    .dataframe tbody tr th:only-of-type {\n",
       "        vertical-align: middle;\n",
       "    }\n",
       "\n",
       "    .dataframe tbody tr th {\n",
       "        vertical-align: top;\n",
       "    }\n",
       "\n",
       "    .dataframe thead th {\n",
       "        text-align: right;\n",
       "    }\n",
       "</style>\n",
       "<table border=\"1\" class=\"dataframe\">\n",
       "  <thead>\n",
       "    <tr style=\"text-align: right;\">\n",
       "      <th></th>\n",
       "      <th>sequence</th>\n",
       "      <th>classification</th>\n",
       "    </tr>\n",
       "  </thead>\n",
       "  <tbody>\n",
       "    <tr>\n",
       "      <th>0</th>\n",
       "      <td>AQLVDSMPSASTGSVVVTDDLNYWGGRRIKSKDGATTEPVFEPATG...</td>\n",
       "      <td>OXIDOREDUCTASE</td>\n",
       "    </tr>\n",
       "    <tr>\n",
       "      <th>1</th>\n",
       "      <td>MGAFLDKPKMEKHNAQGQGNGLRYGLSSMQGWRVEMEDAHTAVIGL...</td>\n",
       "      <td>HYDROLASE</td>\n",
       "    </tr>\n",
       "    <tr>\n",
       "      <th>2</th>\n",
       "      <td>STAGKVIKCKAAVLWEEKKPFSIEEVEVAPPKAHEVRIKMVATGIC...</td>\n",
       "      <td>OXIDOREDUCTASE</td>\n",
       "    </tr>\n",
       "    <tr>\n",
       "      <th>3</th>\n",
       "      <td>MDIRQGPKEPFRDYVDRFYKTLRAEQASQEVKNWMTETLLVQNANP...</td>\n",
       "      <td>VIRAL PROTEIN</td>\n",
       "    </tr>\n",
       "    <tr>\n",
       "      <th>4</th>\n",
       "      <td>EVKQENRLLNESESSSQGLLGYYFSDLNFQAPMVVTSSTTGDLSIP...</td>\n",
       "      <td>TOXIN</td>\n",
       "    </tr>\n",
       "  </tbody>\n",
       "</table>\n",
       "</div>"
      ],
      "text/plain": [
       "                                            sequence  classification\n",
       "0  AQLVDSMPSASTGSVVVTDDLNYWGGRRIKSKDGATTEPVFEPATG...  OXIDOREDUCTASE\n",
       "1  MGAFLDKPKMEKHNAQGQGNGLRYGLSSMQGWRVEMEDAHTAVIGL...       HYDROLASE\n",
       "2  STAGKVIKCKAAVLWEEKKPFSIEEVEVAPPKAHEVRIKMVATGIC...  OXIDOREDUCTASE\n",
       "3  MDIRQGPKEPFRDYVDRFYKTLRAEQASQEVKNWMTETLLVQNANP...   VIRAL PROTEIN\n",
       "4  EVKQENRLLNESESSSQGLLGYYFSDLNFQAPMVVTSSTTGDLSIP...           TOXIN"
      ]
     },
     "execution_count": 2,
     "metadata": {},
     "output_type": "execute_result"
    }
   ],
   "source": [
    "data = pd.read_csv('./data/protein_data.csv')\n",
    "data.head()"
   ]
  },
  {
   "cell_type": "code",
   "execution_count": 3,
   "id": "ee648c6c-1e1c-42eb-a9b4-c354940246d2",
   "metadata": {},
   "outputs": [],
   "source": [
    "X = data['sequence']\n",
    "y = data['classification']\n",
    "\n",
    "from sklearn.preprocessing import LabelEncoder\n",
    "le = LabelEncoder()\n",
    "y = le.fit_transform(y)\n",
    "class_names = le.classes_\n",
    "n_classes = len(class_names)\n",
    "\n",
    "from sklearn.model_selection import train_test_split\n",
    "X_train, X_test, y_train,y_test = train_test_split(X, y, test_size=0.2, random_state=42)\n",
    "X_train, X_val, y_train, y_val = train_test_split(X_train, y_train, test_size=0.1, random_state=42)"
   ]
  },
  {
   "cell_type": "code",
   "execution_count": 4,
   "id": "0195a7e2-0165-4d39-8aaa-9bd0edd11332",
   "metadata": {},
   "outputs": [
    {
     "name": "stdout",
     "output_type": "stream",
     "text": [
      "Average character length: 241.89\n"
     ]
    }
   ],
   "source": [
    "avg_char_len = X_train.str.len().mean()\n",
    "print(f\"Average character length: {avg_char_len:.2f}\")"
   ]
  },
  {
   "cell_type": "code",
   "execution_count": 5,
   "id": "9774e2bb-4a57-48fb-a5d0-647076c6ba87",
   "metadata": {},
   "outputs": [],
   "source": [
    "import torch\n",
    "\n",
    "aa_to_idx = {\n",
    "    'A': 1, 'C': 2, 'D': 3, 'E': 4, 'F': 5,\n",
    "    'G': 6, 'H': 7, 'I': 8, 'K': 9, 'L': 10,\n",
    "    'M': 11, 'N': 12, 'P': 13, 'Q': 14, 'R': 15,\n",
    "    'S': 16, 'T': 17, 'V': 18, 'W': 19, 'Y': 20,\n",
    "    'B': 0, 'Z': 0, 'U': 0, 'O': 0, 'X': 0\n",
    "}\n",
    "\n",
    "def encode_sequence(seq, max_len=250):\n",
    "    encoded = [aa_to_idx.get(aa, 0) for aa in seq]  # map or 0 if unknown\n",
    "    if len(encoded) < max_len:\n",
    "        encoded += [0] * (max_len - len(encoded))  # zero padding\n",
    "    else:\n",
    "        encoded = encoded[:max_len]  # truncate if longer\n",
    "    return torch.tensor(encoded, dtype=torch.long)"
   ]
  },
  {
   "cell_type": "code",
   "execution_count": 6,
   "id": "d393ef00-7d2e-41d3-baa0-6508ab34acd5",
   "metadata": {},
   "outputs": [
    {
     "name": "stdout",
     "output_type": "stream",
     "text": [
      "AQLVDSMPSASTGSVVVTDDLNYWGGRRIKSKDGATTEPVFEPATGRVLCQMVPCGAEEVDQAVQSAQAAYLKWSKMAGIERSRVMLEAARIIRERRDNIAKLEVINNGKTITEAEYDIDAAWQCIEYYAGLAPTLSGQHIQLPGGAFAYTRREPLGVCAGILAWNYPFMIAAWKCAPALACGNAVVFKPSPMTPVTGVILAEIFHEAGVPVGLVNVVQGGAETGSLLCHHPNVAKVSFTGSVPTGKKVMEMSAKTVKHVTLELGGKSPLLIFKDCELENAVRGALMANFLTQGQVCTNGTRVFVQREIMPQFLEEVVKRTKAIVVGDPLLTETRMGGLISKPQLDKVLGFVAQAKKEGARVLCGGEPLTPSDPKLKNGYFMSPCVLDNCRDDMTCVKEEIFGPVMSVLPFDTEEEVLQRANNTTFGLASGVFTRDISRAHRVAANLEAGTCYINTYSISPVEVPFGGYKMSGFGRENGQATVDYYSQLKTVIVEMGDVDSLF\n"
     ]
    },
    {
     "data": {
      "text/plain": [
       "tensor([[-1.5188,  0.4630, -0.2499,  ..., -0.9866, -0.8962, -0.1694],\n",
       "        [ 3.0729,  2.1790, -0.8209,  ...,  0.0910, -1.1922,  1.1350],\n",
       "        [-0.7756,  0.7830,  1.1722,  ..., -0.0884, -1.1325, -0.0227],\n",
       "        ...,\n",
       "        [ 0.3049,  0.0071,  0.0157,  ..., -0.0158,  0.3441,  0.9420],\n",
       "        [ 0.3836,  0.0088, -0.2614,  ..., -0.3243,  0.8638, -0.1622],\n",
       "        [-0.0631,  1.3589,  0.1812,  ..., -2.9769, -1.1891, -0.3656]],\n",
       "       grad_fn=<EmbeddingBackward0>)"
      ]
     },
     "execution_count": 6,
     "metadata": {},
     "output_type": "execute_result"
    }
   ],
   "source": [
    "print(X_train[0])\n",
    "embedding = torch.nn.Embedding(num_embeddings=21, embedding_dim=128, padding_idx=0)\n",
    "embedding(encode_sequence(X_train[0]))"
   ]
  },
  {
   "cell_type": "code",
   "execution_count": 7,
   "id": "5ca5b76e-7832-4f5d-9ee5-c9ca3a5e74bd",
   "metadata": {},
   "outputs": [],
   "source": [
    "import torch\n",
    "from torch.utils.data import Dataset, DataLoader\n",
    "\n",
    "\n",
    "class ProteinDataset(Dataset):\n",
    "    def __init__(self, X, y):\n",
    "        self.X = X\n",
    "        self.y = y\n",
    "\n",
    "    def __len__(self):\n",
    "        return len(self.X)\n",
    "\n",
    "    def __getitem__(self, idx):\n",
    "        seq = pd.Series(self.X).iloc[idx]\n",
    "        label = pd.Series(self.y).iloc[idx]\n",
    "        encoded_seq = encode_sequence(seq)\n",
    "        return encoded_seq, torch.tensor(label, dtype=torch.long)"
   ]
  },
  {
   "cell_type": "code",
   "execution_count": 8,
   "id": "a9216fb6-b03f-4b28-a31d-fbe96bd3048f",
   "metadata": {},
   "outputs": [],
   "source": [
    "train_dataset = ProteinDataset(X_train, y_train)\n",
    "val_dataset   = ProteinDataset(X_val, y_val)\n",
    "test_dataset  = ProteinDataset(X_test, y_test)\n",
    "\n",
    "batch_size = 32\n",
    "\n",
    "train_loader = DataLoader(train_dataset, batch_size=batch_size, shuffle=True)\n",
    "val_loader   = DataLoader(val_dataset, batch_size=batch_size, shuffle=False)\n",
    "test_loader  = DataLoader(test_dataset, batch_size=batch_size, shuffle=False)"
   ]
  },
  {
   "cell_type": "code",
   "execution_count": 9,
   "id": "2785db16-b237-441a-a1da-9fd400c2b37d",
   "metadata": {},
   "outputs": [],
   "source": [
    "import time\n",
    "import torch\n",
    "import torch.nn as nn\n",
    "import torch.optim as optim\n",
    "\n",
    "class RNNClassifier(nn.Module):\n",
    "    def __init__(self, vocab_size, embedding_dim, hidden_dim, n_classes, pad_idx=0):\n",
    "        super(RNNClassifier, self).__init__()\n",
    "\n",
    "        # Embedding for protein sequences\n",
    "        self.embedding = nn.Embedding(vocab_size, embedding_dim, padding_idx=pad_idx)\n",
    "\n",
    "        # Simple RNN (can be bidirectional if you want)\n",
    "        self.rnn = nn.RNN(\n",
    "            input_size=embedding_dim,\n",
    "            hidden_size=hidden_dim,\n",
    "            num_layers=1,\n",
    "            bidirectional=True,\n",
    "            batch_first=True\n",
    "        )\n",
    "\n",
    "        # Fully connected layers\n",
    "        self.fc1 = nn.Linear(hidden_dim * 2, 256)   # *2 because bidirectional\n",
    "        self.fc2 = nn.Linear(256, 128)\n",
    "        self.fc3 = nn.Linear(128, 64)\n",
    "        self.fc_out = nn.Linear(64, n_classes)\n",
    "\n",
    "        self.relu = nn.ReLU()\n",
    "        self.dropout = nn.Dropout(0.3)\n",
    "\n",
    "    def forward(self, x):\n",
    "        # x: [batch_size, seq_len]\n",
    "        x = self.embedding(x)                     # -> [batch_size, seq_len, embedding_dim]\n",
    "        output, h = self.rnn(x)                   # h: [num_layers * num_directions, batch_size, hidden_dim]\n",
    "\n",
    "        # Concatenate last hidden states from forward & backward RNN\n",
    "        if self.rnn.bidirectional:\n",
    "            h = torch.cat((h[-2,:,:], h[-1,:,:]), dim=1)\n",
    "        else:\n",
    "            h = h[-1,:,:]\n",
    "\n",
    "        # Classifier head\n",
    "        x = self.relu(self.fc1(h))\n",
    "        x = self.dropout(x)\n",
    "        x = self.relu(self.fc2(x))\n",
    "        x = self.dropout(x)\n",
    "        x = self.relu(self.fc3(x))\n",
    "        x = self.fc_out(x)\n",
    "\n",
    "        return x\n",
    "\n",
    "history = {\n",
    "    \"train_loss\": [],\n",
    "    \"val_loss\": [],\n",
    "    \"train_acc\": [],\n",
    "    \"val_acc\": []\n",
    "}\n",
    "\n",
    "def train_model(model, train_loader, val_loader, n_epochs=20, lr=1e-3, patience=3):\n",
    "    global history\n",
    "    \n",
    "    device = torch.device(\"cuda\" if torch.cuda.is_available() else \"cpu\")\n",
    "    model.to(device)\n",
    "\n",
    "    criterion = nn.CrossEntropyLoss()\n",
    "    optimizer = optim.Adam(model.parameters(), lr=lr)\n",
    "\n",
    "    best_val_loss = float(\"inf\")\n",
    "    patience_counter = 0\n",
    "    best_model_wts = None\n",
    "\n",
    "    for epoch in range(n_epochs):\n",
    "        epoch_start = time.time()\n",
    "        \n",
    "        # --- Train ---\n",
    "        model.train()\n",
    "        train_loss, correct, total = 0, 0, 0\n",
    "        for X, y in train_loader:\n",
    "            X, y = X.to(device), y.to(device)\n",
    "\n",
    "            optimizer.zero_grad()\n",
    "            outputs = model(X)\n",
    "            loss = criterion(outputs, y)\n",
    "            loss.backward()\n",
    "            optimizer.step()\n",
    "\n",
    "            train_loss += loss.item() * X.size(0)\n",
    "            preds = outputs.argmax(dim=1)\n",
    "            correct += (preds == y).sum().item()\n",
    "            total += y.size(0)\n",
    "\n",
    "        train_acc = correct / total\n",
    "        train_loss /= total\n",
    "\n",
    "        # --- Validation ---\n",
    "        model.eval()\n",
    "        val_loss, correct, total = 0, 0, 0\n",
    "        with torch.no_grad():\n",
    "            for X, y in val_loader:\n",
    "                X, y = X.to(device), y.to(device)\n",
    "                outputs = model(X)\n",
    "                loss = criterion(outputs, y)\n",
    "\n",
    "                val_loss += loss.item() * X.size(0)\n",
    "                preds = outputs.argmax(dim=1)\n",
    "                correct += (preds == y).sum().item()\n",
    "                total += y.size(0)\n",
    "\n",
    "        val_acc = correct / total\n",
    "        val_loss /= total\n",
    "\n",
    "        # --- Save history ---\n",
    "        history[\"train_loss\"].append(train_loss)\n",
    "        history[\"val_loss\"].append(val_loss)\n",
    "        history[\"train_acc\"].append(train_acc)\n",
    "        history[\"val_acc\"].append(val_acc)\n",
    "\n",
    "        epoch_time = time.time() - epoch_start\n",
    "\n",
    "        print(f\"Epoch {epoch+1}: \"\n",
    "              f\"Train loss={train_loss:.4f}, acc={train_acc:.4f} | \"\n",
    "              f\"Val loss={val_loss:.4f}, acc={val_acc:.4f} | \"\n",
    "              f\"Time: {epoch_time:.2f}s\")\n",
    "\n",
    "        # --- Early Stopping ---\n",
    "        if val_loss < best_val_loss:\n",
    "            best_val_loss = val_loss\n",
    "            best_model_wts = model.state_dict()\n",
    "            patience_counter = 0\n",
    "        else:\n",
    "            patience_counter += 1\n",
    "            if patience_counter >= patience:\n",
    "                print(\"Early stopping triggered.\")\n",
    "                if best_model_wts is not None:\n",
    "                    model.load_state_dict(best_model_wts)\n",
    "                break\n",
    "\n",
    "    return model"
   ]
  },
  {
   "cell_type": "code",
   "execution_count": 10,
   "id": "34bb1eae-4c8e-45d8-bfea-cd1e7669850e",
   "metadata": {},
   "outputs": [
    {
     "name": "stdout",
     "output_type": "stream",
     "text": [
      "Epoch 1: Train loss=3.0289, acc=0.1699 | Val loss=2.6899, acc=0.2601 | Time: 31.01s\n",
      "Epoch 2: Train loss=2.6526, acc=0.2676 | Val loss=2.4000, acc=0.3363 | Time: 30.59s\n",
      "Epoch 3: Train loss=2.4655, acc=0.3156 | Val loss=2.2573, acc=0.3743 | Time: 30.37s\n",
      "Epoch 4: Train loss=2.3881, acc=0.3361 | Val loss=2.2347, acc=0.3820 | Time: 30.42s\n",
      "Epoch 5: Train loss=2.3299, acc=0.3523 | Val loss=2.1663, acc=0.4036 | Time: 30.38s\n",
      "Epoch 6: Train loss=2.3118, acc=0.3587 | Val loss=2.1431, acc=0.4084 | Time: 30.50s\n",
      "Epoch 7: Train loss=2.2891, acc=0.3654 | Val loss=2.1111, acc=0.4201 | Time: 30.43s\n",
      "Epoch 8: Train loss=2.3012, acc=0.3628 | Val loss=2.0957, acc=0.4258 | Time: 30.34s\n",
      "Epoch 9: Train loss=2.3231, acc=0.3600 | Val loss=2.1364, acc=0.4163 | Time: 30.41s\n",
      "Epoch 10: Train loss=2.3023, acc=0.3642 | Val loss=2.1162, acc=0.4176 | Time: 30.42s\n",
      "Epoch 11: Train loss=2.2602, acc=0.3742 | Val loss=2.0612, acc=0.4352 | Time: 30.45s\n",
      "Epoch 12: Train loss=2.2693, acc=0.3728 | Val loss=2.1091, acc=0.4230 | Time: 30.47s\n",
      "Epoch 13: Train loss=2.3011, acc=0.3669 | Val loss=2.1067, acc=0.4275 | Time: 30.35s\n",
      "Epoch 14: Train loss=2.3203, acc=0.3616 | Val loss=2.2175, acc=0.3961 | Time: 30.08s\n",
      "Early stopping triggered.\n"
     ]
    }
   ],
   "source": [
    "vocab_size = 21\n",
    "embedding_dim = 128\n",
    "hidden_dim = 128\n",
    "\n",
    "model = RNNClassifier(vocab_size, embedding_dim, hidden_dim, n_classes)\n",
    "trained_model = train_model(model, train_loader, val_loader, n_epochs=20, lr=1e-3, patience=3)"
   ]
  },
  {
   "cell_type": "code",
   "execution_count": 11,
   "id": "2dfd3d04-4993-4e4b-bbef-5cec8b7c5e8f",
   "metadata": {},
   "outputs": [
    {
     "data": {
      "image/png": "[encoded data removed]",
      "text/plain": [
       "<Figure size 1200x500 with 2 Axes>"
      ]
     },
     "metadata": {},
     "output_type": "display_data"
    }
   ],
   "source": [
    "import matplotlib.pyplot as plt\n",
    "\n",
    "fig, axes = plt.subplots(1, 2, figsize=(12, 5))\n",
    "\n",
    "# --- Loss subplot ---\n",
    "axes[0].plot(history[\"train_loss\"], label=\"Train Loss\")\n",
    "axes[0].plot(history[\"val_loss\"], label=\"Val Loss\")\n",
    "axes[0].set_title(\"Loss Curve\")\n",
    "axes[0].set_xlabel(\"Epoch\")\n",
    "axes[0].set_ylabel(\"Loss\")\n",
    "axes[0].legend()\n",
    "\n",
    "# --- Accuracy subplot ---\n",
    "axes[1].plot(history[\"train_acc\"], label=\"Train Acc\")\n",
    "axes[1].plot(history[\"val_acc\"], label=\"Val Acc\")\n",
    "axes[1].set_title(\"Accuracy Curve\")\n",
    "axes[1].set_xlabel(\"Epoch\")\n",
    "axes[1].set_ylabel(\"Accuracy\")\n",
    "axes[1].legend()\n",
    "\n",
    "plt.tight_layout()\n",
    "plt.show()\n"
   ]
  },
  {
   "cell_type": "code",
   "execution_count": 12,
   "id": "ff708999-0170-46d5-923e-968ac9e495dc",
   "metadata": {},
   "outputs": [],
   "source": [
    "import torch\n",
    "import time\n",
    "\n",
    "def get_predictions(model, test_loader):\n",
    "    device = torch.device(\"cuda\" if torch.cuda.is_available() else \"cpu\")\n",
    "    model.to(device)\n",
    "    model.eval()\n",
    "    \n",
    "    all_preds = []\n",
    "    all_labels = []\n",
    "    \n",
    "    with torch.no_grad():\n",
    "        for X, y in test_loader:\n",
    "            X, y = X.to(device), y.to(device)\n",
    "            outputs = model(X)\n",
    "            preds = outputs.argmax(dim=1)\n",
    "            \n",
    "            all_preds.extend(preds.cpu().numpy())\n",
    "            all_labels.extend(y.cpu().numpy())\n",
    "\n",
    "    return all_preds, all_labels\n",
    "\n",
    "y_pred, y_true = get_predictions(trained_model, test_loader)"
   ]
  },
  {
   "cell_type": "code",
   "execution_count": 13,
   "id": "b8deb8e5-e535-43c0-a808-2e9fa2c8d715",
   "metadata": {},
   "outputs": [],
   "source": [
    "from sklearn.metrics import accuracy_score, classification_report, confusion_matrix"
   ]
  },
  {
   "cell_type": "code",
   "execution_count": 14,
   "id": "d7992e51-b5d0-4ee6-974a-8dd9372ddadc",
   "metadata": {},
   "outputs": [
    {
     "data": {
      "text/plain": [
       "0.3939058376243471"
      ]
     },
     "execution_count": 14,
     "metadata": {},
     "output_type": "execute_result"
    }
   ],
   "source": [
    "accuracy_score(y_true, y_pred)"
   ]
  },
  {
   "cell_type": "code",
   "execution_count": 15,
   "id": "b5cb2b06-cc53-4144-81cd-b4fea29324b9",
   "metadata": {},
   "outputs": [
    {
     "name": "stdout",
     "output_type": "stream",
     "text": [
      "              precision    recall  f1-score   support\n",
      "\n",
      "           0       0.36      0.38      0.37      1708\n",
      "           1       0.38      0.53      0.44      1685\n",
      "           2       0.47      0.38      0.42      1729\n",
      "           3       0.61      0.79      0.69      1682\n",
      "           4       0.27      0.28      0.28      1705\n",
      "           5       0.52      0.54      0.53      1628\n",
      "           6       0.53      0.85      0.66      1646\n",
      "           7       0.28      0.07      0.12      1783\n",
      "           8       0.37      0.34      0.35      1661\n",
      "           9       0.39      0.50      0.44      1685\n",
      "          10       0.36      0.35      0.36      1683\n",
      "          11       0.35      0.25      0.29      1679\n",
      "          12       0.27      0.28      0.28      1728\n",
      "          13       0.54      0.36      0.43      1687\n",
      "          14       0.43      0.31      0.36      1686\n",
      "          15       0.26      0.04      0.08      1633\n",
      "          16       0.74      0.95      0.83      1699\n",
      "          17       0.50      0.87      0.64      1757\n",
      "          18       0.08      0.08      0.08      1686\n",
      "          19       0.32      0.29      0.30      1662\n",
      "          20       0.39      0.64      0.48      1720\n",
      "          21       0.46      0.02      0.04      1691\n",
      "          22       0.15      0.37      0.22      1680\n",
      "          23       0.28      0.33      0.30      1655\n",
      "          24       0.42      0.60      0.49      1681\n",
      "          25       0.52      0.67      0.59      1746\n",
      "          26       0.15      0.04      0.06      1657\n",
      "          27       0.12      0.05      0.07      1734\n",
      "          28       0.56      0.63      0.60      1729\n",
      "          29       0.57      0.11      0.19      1673\n",
      "          30       0.20      0.31      0.24      1695\n",
      "          31       0.55      0.37      0.44      1710\n",
      "\n",
      "    accuracy                           0.39     54183\n",
      "   macro avg       0.39      0.39      0.36     54183\n",
      "weighted avg       0.39      0.39      0.36     54183\n",
      "\n"
     ]
    }
   ],
   "source": [
    "print(classification_report(y_true, y_pred))"
   ]
  },
  {
   "cell_type": "code",
   "execution_count": 16,
   "id": "e8eda3e6-061b-4d83-90cd-0334b0bb71be",
   "metadata": {},
   "outputs": [
    {
     "data": {
      "image/png": "[encoded data removed]",
      "text/plain": [
       "<Figure size 1000x700 with 2 Axes>"
      ]
     },
     "metadata": {},
     "output_type": "display_data"
    }
   ],
   "source": [
    "cm = confusion_matrix(y_true, y_pred)\n",
    "plt.figure(figsize=(10,7))\n",
    "sns.heatmap(cm, cmap='Blues');"
   ]
  },
  {
   "cell_type": "code",
   "execution_count": 17,
   "id": "b97af205-8d8a-4854-8ce9-097ca2041b7e",
   "metadata": {},
   "outputs": [],
   "source": [
    "torch.save(model.state_dict(), \"./models/rnn_model_weights.pth\")"
   ]
  },
  {
   "cell_type": "code",
   "execution_count": 18,
   "id": "fda4b4ac-c1a3-4a1a-998b-8e73f1b47e7b",
   "metadata": {},
   "outputs": [],
   "source": [
    "torch.save(model, \"./models/rnn_model_full.pth\")"
   ]
  },
  {
   "cell_type": "code",
   "execution_count": 19,
   "id": "41564fd5-0e2e-4688-9677-417fc7c4bcfc",
   "metadata": {},
   "outputs": [],
   "source": [
    "import torch\n",
    "from sklearn.metrics import accuracy_score, precision_score, recall_score, f1_score"
   ]
  },
  {
   "cell_type": "code",
   "execution_count": 20,
   "id": "50ef19a2-1006-4a10-a6d0-74ef74cc9f0b",
   "metadata": {},
   "outputs": [
    {
     "data": {
      "text/plain": [
       "RNNClassifier(\n",
       "  (embedding): Embedding(21, 128, padding_idx=0)\n",
       "  (rnn): RNN(128, 128, batch_first=True, bidirectional=True)\n",
       "  (fc1): Linear(in_features=256, out_features=256, bias=True)\n",
       "  (fc2): Linear(in_features=256, out_features=128, bias=True)\n",
       "  (fc3): Linear(in_features=128, out_features=64, bias=True)\n",
       "  (fc_out): Linear(in_features=64, out_features=32, bias=True)\n",
       "  (relu): ReLU()\n",
       "  (dropout): Dropout(p=0.3, inplace=False)\n",
       ")"
      ]
     },
     "execution_count": 20,
     "metadata": {},
     "output_type": "execute_result"
    }
   ],
   "source": [
    "device = torch.device(\"cuda\" if torch.cuda.is_available() else \"cpu\")\n",
    "model = torch.load(\"./models/rnn_model_full.pth\", map_location=device, weights_only=False)\n",
    "model.to(device)\n",
    "model.eval()"
   ]
  },
  {
   "cell_type": "code",
   "execution_count": 21,
   "id": "d769e314-8c55-4f22-b9c6-a9b68837e68f",
   "metadata": {},
   "outputs": [
    {
     "name": "stdout",
     "output_type": "stream",
     "text": [
      "Accuracy: 0.3939\n",
      "Precision: 0.3884\n",
      "Recall: 0.3939\n",
      "F1 Score: 0.3646\n"
     ]
    }
   ],
   "source": [
    "all_preds = []\n",
    "all_labels = []\n",
    "\n",
    "with torch.no_grad():\n",
    "    for X, y in test_loader:\n",
    "        X, y = X.to(device), y.to(device)\n",
    "        outputs = model(X)\n",
    "        _, preds = torch.max(outputs, 1)\n",
    "        all_preds.extend(preds.cpu().numpy())\n",
    "        all_labels.extend(y.cpu().numpy())\n",
    "\n",
    "accuracy = accuracy_score(all_labels, all_preds)\n",
    "precision = precision_score(all_labels, all_preds, average=\"weighted\")\n",
    "recall = recall_score(all_labels, all_preds, average=\"weighted\")\n",
    "f1 = f1_score(all_labels, all_preds, average=\"weighted\")\n",
    "\n",
    "print(f\"Accuracy: {accuracy:.4f}\")\n",
    "print(f\"Precision: {precision:.4f}\")\n",
    "print(f\"Recall: {recall:.4f}\")\n",
    "print(f\"F1 Score: {f1:.4f}\")"
   ]
  },
  {
   "cell_type": "code",
   "execution_count": null,
   "id": "c2948c99-cf53-412b-94de-2e0e7dab55d7",
   "metadata": {},
   "outputs": [],
   "source": []
  }
 ],
 "metadata": {
  "kernelspec": {
   "display_name": "Python 3 (ipykernel)",
   "language": "python",
   "name": "python3"
  },
  "language_info": {
   "codemirror_mode": {
    "name": "ipython",
    "version": 3
   },
   "file_extension": ".py",
   "mimetype": "text/x-python",
   "name": "python",
   "nbconvert_exporter": "python",
   "pygments_lexer": "ipython3",
   "version": "3.10.18"
  }
 },
 "nbformat": 4,
 "nbformat_minor": 5
}
