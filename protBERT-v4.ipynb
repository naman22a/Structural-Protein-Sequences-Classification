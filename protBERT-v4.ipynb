{
 "cells": [
  {
   "cell_type": "code",
   "execution_count": 1,
   "id": "dfd9ca6a-70cc-4927-885a-11b7a062cf76",
   "metadata": {},
   "outputs": [],
   "source": [
    "import pandas as pd\n",
    "import matplotlib.pyplot as plt\n",
    "import seaborn as sns"
   ]
  },
  {
   "cell_type": "code",
   "execution_count": 2,
   "id": "5b94da3e-043d-4657-8abb-df0d13329a6c",
   "metadata": {},
   "outputs": [
    {
     "data": {
      "text/html": [
       "<div>\n",
       "<style scoped>\n",
       "    .dataframe tbody tr th:only-of-type {\n",
       "        vertical-align: middle;\n",
       "    }\n",
       "\n",
       "    .dataframe tbody tr th {\n",
       "        vertical-align: top;\n",
       "    }\n",
       "\n",
       "    .dataframe thead th {\n",
       "        text-align: right;\n",
       "    }\n",
       "</style>\n",
       "<table border=\"1\" class=\"dataframe\">\n",
       "  <thead>\n",
       "    <tr style=\"text-align: right;\">\n",
       "      <th></th>\n",
       "      <th>sequence</th>\n",
       "      <th>classification</th>\n",
       "    </tr>\n",
       "  </thead>\n",
       "  <tbody>\n",
       "    <tr>\n",
       "      <th>71573</th>\n",
       "      <td>XEWEALEKKLAALESKXQALEKKLEALEHGX</td>\n",
       "      <td>DE NOVO PROTEIN</td>\n",
       "    </tr>\n",
       "    <tr>\n",
       "      <th>257713</th>\n",
       "      <td>GPGSMSIPTLNPTVALVAIDLQNGIVVLPMVPQSGGDVVAKTAELA...</td>\n",
       "      <td>UNKNOWN FUNCTION</td>\n",
       "    </tr>\n",
       "    <tr>\n",
       "      <th>169619</th>\n",
       "      <td>ALLSFERKYRVPGGTLVGGNLFDFWVGPFYVGFFGVATFFFAALGI...</td>\n",
       "      <td>PHOTOSYNTHESIS</td>\n",
       "    </tr>\n",
       "    <tr>\n",
       "      <th>13661</th>\n",
       "      <td>MGHHHHHHSGEDEQQEQTIAEDLVVTKYKMGGDIANRVLRSLVEAS...</td>\n",
       "      <td>TRANSCRIPTION</td>\n",
       "    </tr>\n",
       "    <tr>\n",
       "      <th>60685</th>\n",
       "      <td>XFMAFWEXLX</td>\n",
       "      <td>CELL CYCLE</td>\n",
       "    </tr>\n",
       "  </tbody>\n",
       "</table>\n",
       "</div>"
      ],
      "text/plain": [
       "                                                 sequence    classification\n",
       "71573                     XEWEALEKKLAALESKXQALEKKLEALEHGX   DE NOVO PROTEIN\n",
       "257713  GPGSMSIPTLNPTVALVAIDLQNGIVVLPMVPQSGGDVVAKTAELA...  UNKNOWN FUNCTION\n",
       "169619  ALLSFERKYRVPGGTLVGGNLFDFWVGPFYVGFFGVATFFFAALGI...    PHOTOSYNTHESIS\n",
       "13661   MGHHHHHHSGEDEQQEQTIAEDLVVTKYKMGGDIANRVLRSLVEAS...     TRANSCRIPTION\n",
       "60685                                          XFMAFWEXLX        CELL CYCLE"
      ]
     },
     "execution_count": 2,
     "metadata": {},
     "output_type": "execute_result"
    }
   ],
   "source": [
    "data = pd.read_csv('./data/protein_data.csv')\n",
    "from sklearn.model_selection import train_test_split\n",
    "\n",
    "df_sampled, _ = train_test_split(\n",
    "    data,\n",
    "    stratify=data['classification'],\n",
    "    # train_size=10_000,\n",
    "    train_size=20_000,\n",
    "    random_state=42\n",
    ")\n",
    "df_sampled.head()"
   ]
  },
  {
   "cell_type": "code",
   "execution_count": 3,
   "id": "9c3f4ad9-c17c-489f-a19d-cd9c8124f16a",
   "metadata": {},
   "outputs": [
    {
     "data": {
      "text/plain": [
       "20000"
      ]
     },
     "execution_count": 3,
     "metadata": {},
     "output_type": "execute_result"
    }
   ],
   "source": [
    "len(df_sampled)"
   ]
  },
  {
   "cell_type": "code",
   "execution_count": 4,
   "id": "85d33bcf-4ed1-4d7b-a3a2-ba69c7c28c9d",
   "metadata": {},
   "outputs": [
    {
     "data": {
      "text/plain": [
       "classification\n",
       "DE NOVO PROTEIN                            625\n",
       "UNKNOWN FUNCTION                           625\n",
       "SIGNALING PROTEIN                          625\n",
       "IMMUNE SYSTEM                              625\n",
       "STRUCTURAL GENOMICS, UNKNOWN FUNCTION      625\n",
       "OXIDOREDUCTASE/OXIDOREDUCTASE INHIBITOR    625\n",
       "CHAPERONE                                  625\n",
       "HYDROLASE                                  625\n",
       "LIGASE                                     625\n",
       "TRANSFERASE                                625\n",
       "GENE REGULATION                            625\n",
       "TRANSFERASE/TRANSFERASE INHIBITOR          625\n",
       "RNA BINDING PROTEIN                        625\n",
       "STRUCTURAL PROTEIN                         625\n",
       "PROTEIN TRANSPORT                          625\n",
       "CELL ADHESION                              625\n",
       "OXIDOREDUCTASE                             625\n",
       "PROTEIN BINDING                            625\n",
       "TRANSPORT PROTEIN                          625\n",
       "TOXIN                                      625\n",
       "DNA BINDING PROTEIN                        625\n",
       "VIRAL PROTEIN                              625\n",
       "METAL BINDING PROTEIN                      625\n",
       "SUGAR BINDING PROTEIN                      625\n",
       "MEMBRANE PROTEIN                           625\n",
       "ISOMERASE                                  625\n",
       "LYASE                                      625\n",
       "ELECTRON TRANSPORT                         625\n",
       "CELL CYCLE                                 625\n",
       "TRANSCRIPTION                              625\n",
       "PHOTOSYNTHESIS                             625\n",
       "HYDROLASE/HYDROLASE INHIBITOR              625\n",
       "Name: count, dtype: int64"
      ]
     },
     "execution_count": 4,
     "metadata": {},
     "output_type": "execute_result"
    }
   ],
   "source": [
    "df_sampled['classification'].value_counts()"
   ]
  },
  {
   "cell_type": "code",
   "execution_count": 5,
   "id": "b1db75d2-1cb6-48c3-908b-633f26172e0c",
   "metadata": {},
   "outputs": [],
   "source": [
    "X = df_sampled['sequence']\n",
    "y = df_sampled['classification']\n",
    "\n",
    "from sklearn.preprocessing import LabelEncoder\n",
    "le = LabelEncoder()\n",
    "y = le.fit_transform(y)\n",
    "class_names = le.classes_\n",
    "n_classes = len(class_names)\n",
    "\n",
    "from sklearn.model_selection import train_test_split\n",
    "X_train, X_test, y_train,y_test = train_test_split(X, y, test_size=0.2, random_state=42)\n",
    "X_train, X_val, y_train, y_val = train_test_split(X_train, y_train, test_size=0.1, random_state=42)"
   ]
  },
  {
   "cell_type": "code",
   "execution_count": 6,
   "id": "6db6e9cc-cee9-4a51-ba16-40c19923e0ae",
   "metadata": {},
   "outputs": [
    {
     "name": "stdout",
     "output_type": "stream",
     "text": [
      "Average character length: 241.07\n"
     ]
    }
   ],
   "source": [
    "avg_char_len = X_train.str.len().mean()\n",
    "print(f\"Average character length: {avg_char_len:.2f}\")"
   ]
  },
  {
   "cell_type": "code",
   "execution_count": 7,
   "id": "afae0115-e82b-400d-8397-820a1573c066",
   "metadata": {},
   "outputs": [],
   "source": [
    "from transformers import AutoTokenizer\n",
    "\n",
    "tokenizer = AutoTokenizer.from_pretrained(\"Rostlab/prot_bert\", do_lower_case=False)\n",
    "\n",
    "def preprocess_sequence(sequence):\n",
    "    return ' '.join(list(sequence.strip()))\n",
    "\n",
    "def tokenize_sequences(sequences, max_length=250):\n",
    "    sequences = [preprocess_sequence(seq) for seq in sequences]\n",
    "    return tokenizer(\n",
    "        sequences,\n",
    "        padding=True,\n",
    "        truncation=True,\n",
    "        max_length=max_length,\n",
    "        return_tensors=\"pt\"\n",
    "    )"
   ]
  },
  {
   "cell_type": "code",
   "execution_count": 8,
   "id": "f4971c02-b587-435d-945a-ae7c3c10320c",
   "metadata": {},
   "outputs": [],
   "source": [
    "import torch\n",
    "from torch.utils.data import Dataset, DataLoader\n",
    "\n",
    "class ProteinDataset(Dataset):\n",
    "    def __init__(self, sequences, labels, max_length=250):\n",
    "        self.labels = labels\n",
    "        tokenized = tokenize_sequences(sequences, max_length=max_length)\n",
    "        self.input_ids = tokenized[\"input_ids\"]\n",
    "        self.attention_mask = tokenized[\"attention_mask\"]\n",
    "\n",
    "    def __len__(self):\n",
    "        return len(self.labels)\n",
    "\n",
    "    def __getitem__(self, idx):\n",
    "        return {\n",
    "            \"input_ids\": self.input_ids[idx],\n",
    "            \"attention_mask\": self.attention_mask[idx],\n",
    "            \"labels\": torch.tensor(self.labels[idx], dtype=torch.long)\n",
    "        }\n",
    "\n",
    "train_dataset = ProteinDataset(X_train.tolist(), y_train.tolist())\n",
    "val_dataset = ProteinDataset(X_val.tolist(), y_val.tolist())\n",
    "test_dataset = ProteinDataset(X_test.tolist(), y_test.tolist())\n",
    "\n",
    "train_loader = DataLoader(train_dataset, batch_size=16, shuffle=True)\n",
    "val_loader = DataLoader(val_dataset, batch_size=16)"
   ]
  },
  {
   "cell_type": "code",
   "execution_count": 9,
   "id": "bf68f09d-5abf-411e-b847-5b6752b8161b",
   "metadata": {},
   "outputs": [],
   "source": [
    "import torch.nn as nn\n",
    "from transformers import BertModel\n",
    "\n",
    "class ProteinClassifier(nn.Module):\n",
    "    def __init__(self, num_labels):\n",
    "        super().__init__()\n",
    "        self.bert = BertModel.from_pretrained(\"Rostlab/prot_bert\")\n",
    "        self.dropout = nn.Dropout(0.5)\n",
    "        self.classifier = nn.Sequential(\n",
    "            nn.Linear(self.bert.config.hidden_size, 512),\n",
    "            nn.ReLU(),\n",
    "            nn.Dropout(0.3),\n",
    "            nn.Linear(512, 256),\n",
    "            nn.ReLU(),\n",
    "            nn.Dropout(0.3),\n",
    "            nn.Linear(256, num_labels)\n",
    "        )\n",
    "\n",
    "    def forward(self, input_ids, attention_mask):\n",
    "        outputs = self.bert(input_ids=input_ids, attention_mask=attention_mask)\n",
    "        pooled_output = outputs.pooler_output\n",
    "        x = self.dropout(pooled_output)\n",
    "        return self.classifier(x)\n"
   ]
  },
  {
   "cell_type": "code",
   "execution_count": 10,
   "id": "10ae0be9-356b-4d53-a0b4-756aa0aae565",
   "metadata": {},
   "outputs": [],
   "source": [
    "import torch\n",
    "import numpy as np\n",
    "\n",
    "class EarlyStopping:\n",
    "    def __init__(self, patience=3, delta=0, path=\"checkpoint.pt\", verbose=False):\n",
    "        \"\"\"\n",
    "        Args:\n",
    "            patience (int): How many epochs to wait after last improvement.\n",
    "            delta (float): Minimum change in monitored metric to qualify as improvement.\n",
    "            path (str): File path to save the best model.\n",
    "            verbose (bool): Print messages when improvement happens.\n",
    "        \"\"\"\n",
    "        self.patience = patience\n",
    "        self.delta = delta\n",
    "        self.path = path\n",
    "        self.verbose = verbose\n",
    "        self.counter = 0\n",
    "        self.best_score = None\n",
    "        self.early_stop = False\n",
    "        self.val_loss_min = np.Inf\n",
    "\n",
    "    def __call__(self, val_loss, model):\n",
    "        score = -val_loss\n",
    "\n",
    "        if self.best_score is None:\n",
    "            self.best_score = score\n",
    "            self.save_checkpoint(val_loss, model)\n",
    "        elif score < self.best_score + self.delta:\n",
    "            self.counter += 1\n",
    "            if self.verbose:\n",
    "                print(f\"EarlyStopping counter: {self.counter} out of {self.patience}\")\n",
    "            if self.counter >= self.patience:\n",
    "                self.early_stop = True\n",
    "        else:\n",
    "            self.best_score = score\n",
    "            self.save_checkpoint(val_loss, model)\n",
    "            self.counter = 0\n",
    "\n",
    "    def save_checkpoint(self, val_loss, model):\n",
    "        \"\"\"Saves model when validation loss decreases.\"\"\"\n",
    "        if self.verbose:\n",
    "            print(f\"Validation loss decreased ({self.val_loss_min:.6f} → {val_loss:.6f}). Saving model...\")\n",
    "        torch.save(model.state_dict(), self.path)\n",
    "        self.val_loss_min = val_loss"
   ]
  },
  {
   "cell_type": "code",
   "execution_count": 11,
   "id": "4c383ba1-6921-4b45-9977-eb53c2704dcc",
   "metadata": {},
   "outputs": [
    {
     "name": "stdout",
     "output_type": "stream",
     "text": [
      "Epoch 1/40 | Train Loss: 3.4467 | Train Acc: 0.0390 | Val Loss: 3.3315 | Val Acc: 0.0681 | Time: 143.67s\n",
      "Validation loss decreased (inf → 3.331490). Saving model...\n",
      "Epoch 2/40 | Train Loss: 3.2102 | Train Acc: 0.0576 | Val Loss: 3.1306 | Val Acc: 0.0512 | Time: 143.46s\n",
      "Validation loss decreased (3.331490 → 3.130577). Saving model...\n",
      "Epoch 3/40 | Train Loss: 3.1057 | Train Acc: 0.0641 | Val Loss: 3.0882 | Val Acc: 0.0700 | Time: 143.59s\n",
      "Validation loss decreased (3.130577 → 3.088168). Saving model...\n",
      "Epoch 4/40 | Train Loss: 3.0447 | Train Acc: 0.0725 | Val Loss: 3.0467 | Val Acc: 0.0631 | Time: 143.47s\n",
      "Validation loss decreased (3.088168 → 3.046663). Saving model...\n",
      "Epoch 5/40 | Train Loss: 2.9291 | Train Acc: 0.1105 | Val Loss: 2.8894 | Val Acc: 0.1106 | Time: 143.45s\n",
      "Validation loss decreased (3.046663 → 2.889405). Saving model...\n",
      "Epoch 6/40 | Train Loss: 2.7509 | Train Acc: 0.1635 | Val Loss: 2.7891 | Val Acc: 0.1769 | Time: 143.57s\n",
      "Validation loss decreased (2.889405 → 2.789096). Saving model...\n",
      "Epoch 7/40 | Train Loss: 2.6281 | Train Acc: 0.1955 | Val Loss: 2.7344 | Val Acc: 0.2156 | Time: 143.56s\n",
      "Validation loss decreased (2.789096 → 2.734438). Saving model...\n",
      "Epoch 8/40 | Train Loss: 2.5101 | Train Acc: 0.2406 | Val Loss: 2.6831 | Val Acc: 0.2194 | Time: 143.54s\n",
      "Validation loss decreased (2.734438 → 2.683104). Saving model...\n",
      "Epoch 9/40 | Train Loss: 2.4151 | Train Acc: 0.2672 | Val Loss: 2.6666 | Val Acc: 0.2431 | Time: 143.58s\n",
      "Validation loss decreased (2.683104 → 2.666618). Saving model...\n",
      "Epoch 10/40 | Train Loss: 2.3555 | Train Acc: 0.2790 | Val Loss: 2.6127 | Val Acc: 0.2469 | Time: 143.51s\n",
      "Validation loss decreased (2.666618 → 2.612657). Saving model...\n",
      "Epoch 11/40 | Train Loss: 2.2875 | Train Acc: 0.3076 | Val Loss: 2.5492 | Val Acc: 0.3069 | Time: 143.55s\n",
      "Validation loss decreased (2.612657 → 2.549250). Saving model...\n",
      "Epoch 12/40 | Train Loss: 2.2370 | Train Acc: 0.3247 | Val Loss: 2.5452 | Val Acc: 0.3225 | Time: 143.60s\n",
      "Validation loss decreased (2.549250 → 2.545184). Saving model...\n",
      "Epoch 13/40 | Train Loss: 2.2041 | Train Acc: 0.3283 | Val Loss: 2.5219 | Val Acc: 0.3369 | Time: 143.57s\n",
      "Validation loss decreased (2.545184 → 2.521853). Saving model...\n",
      "Epoch 14/40 | Train Loss: 2.1674 | Train Acc: 0.3490 | Val Loss: 2.5510 | Val Acc: 0.2875 | Time: 143.59s\n",
      "EarlyStopping counter: 1 out of 5\n",
      "Epoch 15/40 | Train Loss: 2.0928 | Train Acc: 0.3767 | Val Loss: 2.4896 | Val Acc: 0.3400 | Time: 143.51s\n",
      "Validation loss decreased (2.521853 → 2.489585). Saving model...\n",
      "Epoch 16/40 | Train Loss: 2.0607 | Train Acc: 0.3886 | Val Loss: 2.5035 | Val Acc: 0.3475 | Time: 143.50s\n",
      "EarlyStopping counter: 1 out of 5\n",
      "Epoch 17/40 | Train Loss: 2.0442 | Train Acc: 0.4008 | Val Loss: 2.4981 | Val Acc: 0.4062 | Time: 143.58s\n",
      "EarlyStopping counter: 2 out of 5\n",
      "Epoch 18/40 | Train Loss: 2.0050 | Train Acc: 0.4148 | Val Loss: 2.4503 | Val Acc: 0.3837 | Time: 143.63s\n",
      "Validation loss decreased (2.489585 → 2.450342). Saving model...\n",
      "Epoch 19/40 | Train Loss: 1.9626 | Train Acc: 0.4311 | Val Loss: 2.4964 | Val Acc: 0.3894 | Time: 143.81s\n",
      "EarlyStopping counter: 1 out of 5\n",
      "Epoch 20/40 | Train Loss: 1.9388 | Train Acc: 0.4428 | Val Loss: 2.4414 | Val Acc: 0.4475 | Time: 143.91s\n",
      "Validation loss decreased (2.450342 → 2.441381). Saving model...\n",
      "Epoch 21/40 | Train Loss: 1.9096 | Train Acc: 0.4530 | Val Loss: 2.4296 | Val Acc: 0.4406 | Time: 143.55s\n",
      "Validation loss decreased (2.441381 → 2.429580). Saving model...\n",
      "Epoch 22/40 | Train Loss: 1.8895 | Train Acc: 0.4719 | Val Loss: 2.4608 | Val Acc: 0.4525 | Time: 143.54s\n",
      "EarlyStopping counter: 1 out of 5\n",
      "Epoch 23/40 | Train Loss: 1.8697 | Train Acc: 0.4799 | Val Loss: 2.4044 | Val Acc: 0.4400 | Time: 144.06s\n",
      "Validation loss decreased (2.429580 → 2.404354). Saving model...\n",
      "Epoch 24/40 | Train Loss: 1.8506 | Train Acc: 0.4915 | Val Loss: 2.4036 | Val Acc: 0.4500 | Time: 143.50s\n",
      "Validation loss decreased (2.404354 → 2.403611). Saving model...\n",
      "Epoch 25/40 | Train Loss: 1.8258 | Train Acc: 0.5033 | Val Loss: 2.4176 | Val Acc: 0.4163 | Time: 143.53s\n",
      "EarlyStopping counter: 1 out of 5\n",
      "Epoch 26/40 | Train Loss: 1.8110 | Train Acc: 0.5162 | Val Loss: 2.4190 | Val Acc: 0.4744 | Time: 143.57s\n",
      "EarlyStopping counter: 2 out of 5\n",
      "Epoch 27/40 | Train Loss: 1.7933 | Train Acc: 0.5307 | Val Loss: 2.3807 | Val Acc: 0.4931 | Time: 143.81s\n",
      "Validation loss decreased (2.403611 → 2.380665). Saving model...\n",
      "Epoch 28/40 | Train Loss: 1.7695 | Train Acc: 0.5421 | Val Loss: 2.3998 | Val Acc: 0.4719 | Time: 143.96s\n",
      "EarlyStopping counter: 1 out of 5\n",
      "Epoch 29/40 | Train Loss: 1.7503 | Train Acc: 0.5596 | Val Loss: 2.3942 | Val Acc: 0.4931 | Time: 143.77s\n",
      "EarlyStopping counter: 2 out of 5\n",
      "Epoch 30/40 | Train Loss: 1.7355 | Train Acc: 0.5683 | Val Loss: 2.3804 | Val Acc: 0.5375 | Time: 144.09s\n",
      "Validation loss decreased (2.380665 → 2.380381). Saving model...\n",
      "Epoch 31/40 | Train Loss: 1.7213 | Train Acc: 0.5806 | Val Loss: 2.3917 | Val Acc: 0.5619 | Time: 143.53s\n",
      "EarlyStopping counter: 1 out of 5\n",
      "Epoch 32/40 | Train Loss: 1.7139 | Train Acc: 0.5833 | Val Loss: 2.3874 | Val Acc: 0.5700 | Time: 143.52s\n",
      "EarlyStopping counter: 2 out of 5\n",
      "Epoch 33/40 | Train Loss: 1.7037 | Train Acc: 0.5914 | Val Loss: 2.3880 | Val Acc: 0.5631 | Time: 143.57s\n",
      "EarlyStopping counter: 3 out of 5\n",
      "Epoch 34/40 | Train Loss: 1.6919 | Train Acc: 0.6044 | Val Loss: 2.3693 | Val Acc: 0.5644 | Time: 144.39s\n",
      "Validation loss decreased (2.380381 → 2.369253). Saving model...\n",
      "Epoch 35/40 | Train Loss: 1.6812 | Train Acc: 0.6233 | Val Loss: 2.3641 | Val Acc: 0.5694 | Time: 143.61s\n",
      "Validation loss decreased (2.369253 → 2.364117). Saving model...\n",
      "Epoch 36/40 | Train Loss: 1.6675 | Train Acc: 0.6271 | Val Loss: 2.3631 | Val Acc: 0.5787 | Time: 143.47s\n",
      "Validation loss decreased (2.364117 → 2.363065). Saving model...\n",
      "Epoch 37/40 | Train Loss: 1.6617 | Train Acc: 0.6345 | Val Loss: 2.3629 | Val Acc: 0.5869 | Time: 143.49s\n",
      "Validation loss decreased (2.363065 → 2.362903). Saving model...\n",
      "Epoch 38/40 | Train Loss: 1.6520 | Train Acc: 0.6460 | Val Loss: 2.3699 | Val Acc: 0.5887 | Time: 143.55s\n",
      "EarlyStopping counter: 1 out of 5\n",
      "Epoch 39/40 | Train Loss: 1.6434 | Train Acc: 0.6549 | Val Loss: 2.3739 | Val Acc: 0.6131 | Time: 143.59s\n",
      "EarlyStopping counter: 2 out of 5\n",
      "Epoch 40/40 | Train Loss: 1.6429 | Train Acc: 0.6500 | Val Loss: 2.3700 | Val Acc: 0.6100 | Time: 143.60s\n",
      "EarlyStopping counter: 3 out of 5\n"
     ]
    }
   ],
   "source": [
    "import time\n",
    "from sklearn.metrics import accuracy_score\n",
    "from torch.optim import AdamW\n",
    "from torch.amp import autocast, GradScaler\n",
    "from transformers import get_linear_schedule_with_warmup\n",
    "\n",
    "device = torch.device(\"cuda\" if torch.cuda.is_available() else \"cpu\")\n",
    "model = ProteinClassifier(num_labels=n_classes).to(device)\n",
    "\n",
    "# Freeze all first\n",
    "for name, param in model.bert.named_parameters():\n",
    "    param.requires_grad = False\n",
    "\n",
    "# Unfreeze last 12 layers only (18–29)\n",
    "for name, param in model.bert.named_parameters():\n",
    "    if any(f\"encoder.layer.{i}\" in name for i in range(18, 30)):\n",
    "        param.requires_grad = True\n",
    "\n",
    "# optimizer = torch.optim.AdamW(model.parameters(), lr=1e-3)\n",
    "optimizer = AdamW([\n",
    "    {\"params\": model.bert.parameters(), \"lr\": 2e-5},        # pretrained encoder (small LR)\n",
    "    {\"params\": model.classifier.parameters(), \"lr\": 1e-4},  # classifier head (larger LR)\n",
    "], weight_decay=0.01)\n",
    "criterion = nn.CrossEntropyLoss(label_smoothing=0.1)\n",
    "\n",
    "EPOCHS = 40\n",
    "\n",
    "# History dictionary\n",
    "history = {\n",
    "    'train_loss': [],\n",
    "    'train_acc': [],\n",
    "    'val_loss': [],\n",
    "    'val_acc': [],\n",
    "    'epoch_time': []\n",
    "}\n",
    "\n",
    "scaler = GradScaler(\"cuda\")\n",
    "\n",
    "early_stopping = EarlyStopping(patience=5, verbose=True, path=\"./models/protbert_v4.pt\")\n",
    "\n",
    "total_steps = len(train_loader) * EPOCHS\n",
    "scheduler = get_linear_schedule_with_warmup(\n",
    "    optimizer,\n",
    "    num_warmup_steps=int(0.1 * total_steps),\n",
    "    num_training_steps=total_steps\n",
    ")\n",
    "\n",
    "for epoch in range(EPOCHS):\n",
    "    start_time = time.time()\n",
    "    model.train()\n",
    "    total_loss = 0\n",
    "    all_train_preds = []\n",
    "    all_train_labels = []\n",
    "\n",
    "    for batch in train_loader:\n",
    "        input_ids = batch[\"input_ids\"].to(device)\n",
    "        attention_mask = batch[\"attention_mask\"].to(device)\n",
    "        labels = batch[\"labels\"].to(device)\n",
    "\n",
    "        optimizer.zero_grad()\n",
    "        \n",
    "        with autocast(device_type=\"cuda\", dtype=torch.float16):\n",
    "            outputs = model(input_ids, attention_mask)\n",
    "            loss = criterion(outputs, labels)\n",
    "        \n",
    "        scaler.scale(loss).backward()\n",
    "        scaler.step(optimizer)\n",
    "        scaler.update()\n",
    "        scheduler.step()\n",
    "        \n",
    "        total_loss += loss.item()\n",
    "\n",
    "        preds = torch.argmax(outputs, dim=1)\n",
    "        all_train_preds.extend(preds.cpu().numpy())\n",
    "        all_train_labels.extend(labels.cpu().numpy())\n",
    "\n",
    "    avg_train_loss = total_loss / len(train_loader)\n",
    "    train_acc = accuracy_score(all_train_labels, all_train_preds)\n",
    "\n",
    "    model.eval()\n",
    "    val_loss = 0\n",
    "    all_val_preds = []\n",
    "    all_val_labels = []\n",
    "\n",
    "    with torch.no_grad():\n",
    "        for batch in val_loader:\n",
    "            input_ids = batch[\"input_ids\"].to(device)\n",
    "            attention_mask = batch[\"attention_mask\"].to(device)\n",
    "            labels = batch[\"labels\"].to(device)\n",
    "\n",
    "            with autocast(device_type=\"cuda\", dtype=torch.float16):\n",
    "                outputs = model(input_ids, attention_mask)\n",
    "                loss = criterion(outputs, labels)\n",
    "            \n",
    "            val_loss += loss.item()\n",
    "\n",
    "            preds = torch.argmax(outputs, dim=1)\n",
    "            all_val_preds.extend(preds.cpu().numpy())\n",
    "            all_val_labels.extend(labels.cpu().numpy())\n",
    "\n",
    "    avg_val_loss = val_loss / len(val_loader)\n",
    "    val_acc = accuracy_score(all_val_labels, all_val_preds)\n",
    "    \n",
    "    elapsed = time.time() - start_time\n",
    "\n",
    "    print(f\"Epoch {epoch+1}/{EPOCHS} | \"\n",
    "          f\"Train Loss: {avg_train_loss:.4f} | Train Acc: {train_acc:.4f} | \"\n",
    "          f\"Val Loss: {avg_val_loss:.4f} | Val Acc: {val_acc:.4f} | \"\n",
    "          f\"Time: {elapsed:.2f}s\")\n",
    "\n",
    "    # Save to history\n",
    "    history['train_loss'].append(avg_train_loss)\n",
    "    history['train_acc'].append(train_acc)\n",
    "    history['val_loss'].append(avg_val_loss)\n",
    "    history['val_acc'].append(val_acc)\n",
    "    history['epoch_time'].append(elapsed)\n",
    "\n",
    "    early_stopping(avg_val_loss, model)\n",
    "\n",
    "    if early_stopping.early_stop:\n",
    "        print(\"Early stopping triggered!\")\n",
    "        break\n"
   ]
  },
  {
   "cell_type": "code",
   "execution_count": 12,
   "id": "6666f2f7-8579-4763-a27a-259250f90e58",
   "metadata": {},
   "outputs": [
    {
     "data": {
      "image/png": "[encoded data removed]",
      "text/plain": [
       "<Figure size 640x480 with 1 Axes>"
      ]
     },
     "metadata": {},
     "output_type": "display_data"
    }
   ],
   "source": [
    "import matplotlib.pyplot as plt\n",
    "\n",
    "plt.plot(history['train_loss'], label='Train Loss', marker='o')\n",
    "plt.plot(history['val_loss'], label='Val Loss', marker='o')\n",
    "plt.legend()\n",
    "plt.title(\"Loss Curve\")\n",
    "plt.xlabel(\"Epoch\")\n",
    "plt.ylabel(\"Loss\")\n",
    "plt.grid(True)\n",
    "plt.show()"
   ]
  },
  {
   "cell_type": "code",
   "execution_count": 13,
   "id": "ce9d5f90-64a5-4838-9e3a-0e373be5b062",
   "metadata": {},
   "outputs": [
    {
     "data": {
      "image/png": "[encoded data removed]",
      "text/plain": [
       "<Figure size 800x500 with 1 Axes>"
      ]
     },
     "metadata": {},
     "output_type": "display_data"
    }
   ],
   "source": [
    "plt.figure(figsize=(8, 5))\n",
    "plt.plot(history['train_acc'], label='Train Accuracy', marker='o')\n",
    "plt.plot(history['val_acc'], label='Val Accuracy', marker='o')\n",
    "plt.title(\"Accuracy per Epoch\")\n",
    "plt.xlabel(\"Epoch\")\n",
    "plt.ylabel(\"Accuracy\")\n",
    "plt.legend()\n",
    "plt.grid(True)\n",
    "plt.tight_layout()\n",
    "plt.show()"
   ]
  },
  {
   "cell_type": "code",
   "execution_count": 14,
   "id": "fb9b8e5e-244d-47ac-a4b2-c2f7ad90b619",
   "metadata": {},
   "outputs": [
    {
     "name": "stdout",
     "output_type": "stream",
     "text": [
      "Test Accuracy: 0.6102\n"
     ]
    }
   ],
   "source": [
    "test_loader = DataLoader(test_dataset, batch_size=16)\n",
    "\n",
    "model.eval()\n",
    "test_preds = []\n",
    "test_labels = []\n",
    "\n",
    "with torch.no_grad():\n",
    "    for batch in test_loader:\n",
    "        input_ids = batch[\"input_ids\"].to(device)\n",
    "        attention_mask = batch[\"attention_mask\"].to(device)\n",
    "        labels = batch[\"labels\"].to(device)\n",
    "\n",
    "        outputs = model(input_ids, attention_mask)\n",
    "        preds = torch.argmax(outputs, dim=1)\n",
    "        test_preds.extend(preds.cpu().numpy())\n",
    "        test_labels.extend(labels.cpu().numpy())\n",
    "\n",
    "test_acc = accuracy_score(test_labels, test_preds)\n",
    "print(f\"Test Accuracy: {test_acc:.4f}\")"
   ]
  },
  {
   "cell_type": "code",
   "execution_count": 15,
   "id": "81bc4b67-2af7-4913-b1f8-791db3bb1721",
   "metadata": {},
   "outputs": [
    {
     "name": "stdout",
     "output_type": "stream",
     "text": [
      "Accuracy: 0.6102\n",
      "Precision: 0.6128\n",
      "Recall: 0.6102\n",
      "F1 Score: 0.5915\n"
     ]
    }
   ],
   "source": [
    "from sklearn.metrics import accuracy_score, precision_score, recall_score, f1_score, classification_report\n",
    "\n",
    "accuracy = accuracy_score(test_labels, test_preds)\n",
    "precision = precision_score(test_labels, test_preds, average=\"weighted\")\n",
    "recall = recall_score(test_labels, test_preds, average=\"weighted\")\n",
    "f1 = f1_score(test_labels, test_preds, average=\"weighted\")\n",
    "\n",
    "print(f\"Accuracy: {accuracy:.4f}\")\n",
    "print(f\"Precision: {precision:.4f}\")\n",
    "print(f\"Recall: {recall:.4f}\")\n",
    "print(f\"F1 Score: {f1:.4f}\")"
   ]
  },
  {
   "cell_type": "code",
   "execution_count": 16,
   "id": "f9adef9c-8ec3-49fa-9b71-f1e2217bd7e1",
   "metadata": {},
   "outputs": [],
   "source": [
    "from sklearn.metrics import classification_report, confusion_matrix"
   ]
  },
  {
   "cell_type": "code",
   "execution_count": 17,
   "id": "22c0d808-c4ec-4e30-983d-3104932c0c0b",
   "metadata": {},
   "outputs": [
    {
     "name": "stdout",
     "output_type": "stream",
     "text": [
      "              precision    recall  f1-score   support\n",
      "\n",
      "           0       0.87      0.71      0.78       119\n",
      "           1       0.49      0.80      0.61       128\n",
      "           2       0.71      0.86      0.78       127\n",
      "           3       0.98      0.86      0.91       119\n",
      "           4       0.58      0.52      0.55       132\n",
      "           5       0.77      0.77      0.77       123\n",
      "           6       0.50      0.91      0.65       133\n",
      "           7       0.39      0.38      0.39       120\n",
      "           8       0.62      0.54      0.58       147\n",
      "           9       0.55      0.66      0.60       123\n",
      "          10       0.79      0.68      0.73       140\n",
      "          11       0.65      0.76      0.70       111\n",
      "          12       0.62      0.66      0.64       104\n",
      "          13       0.69      0.58      0.63       127\n",
      "          14       0.73      0.65      0.69       128\n",
      "          15       0.68      0.11      0.19       132\n",
      "          16       0.57      0.94      0.71       123\n",
      "          17       0.71      0.81      0.75       120\n",
      "          18       0.25      0.04      0.07       125\n",
      "          19       0.63      0.69      0.66       123\n",
      "          20       0.63      0.83      0.72       134\n",
      "          21       0.41      0.48      0.44       122\n",
      "          22       0.49      0.49      0.49       117\n",
      "          23       0.67      0.58      0.62       150\n",
      "          24       0.58      0.83      0.68        95\n",
      "          25       0.70      0.51      0.59       120\n",
      "          26       0.48      0.26      0.34       126\n",
      "          27       0.38      0.26      0.31       123\n",
      "          28       0.52      0.82      0.64       125\n",
      "          29       0.58      0.61      0.60       120\n",
      "          30       0.62      0.46      0.53       133\n",
      "          31       0.74      0.56      0.63       131\n",
      "\n",
      "    accuracy                           0.61      4000\n",
      "   macro avg       0.61      0.61      0.59      4000\n",
      "weighted avg       0.61      0.61      0.59      4000\n",
      "\n"
     ]
    }
   ],
   "source": [
    "print(classification_report(test_labels, test_preds))"
   ]
  },
  {
   "cell_type": "code",
   "execution_count": 18,
   "id": "0bae3b01-8356-405f-a2fd-fec5fe178743",
   "metadata": {},
   "outputs": [
    {
     "data": {
      "image/png": "[encoded data removed]",
      "text/plain": [
       "<Figure size 1000x700 with 2 Axes>"
      ]
     },
     "metadata": {},
     "output_type": "display_data"
    }
   ],
   "source": [
    "cm = confusion_matrix(test_labels, test_preds)\n",
    "plt.figure(figsize=(10,7))\n",
    "sns.heatmap(cm, cmap='Blues');"
   ]
  },
  {
   "cell_type": "code",
   "execution_count": null,
   "id": "9b1f8a37-a811-4f1c-8e35-490e41da12a6",
   "metadata": {},
   "outputs": [],
   "source": []
  }
 ],
 "metadata": {
  "kernelspec": {
   "display_name": "Python 3 (ipykernel)",
   "language": "python",
   "name": "python3"
  },
  "language_info": {
   "codemirror_mode": {
    "name": "ipython",
    "version": 3
   },
   "file_extension": ".py",
   "mimetype": "text/x-python",
   "name": "python",
   "nbconvert_exporter": "python",
   "pygments_lexer": "ipython3",
   "version": "3.10.18"
  }
 },
 "nbformat": 4,
 "nbformat_minor": 5
}
