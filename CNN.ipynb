{
 "cells": [
  {
   "cell_type": "code",
   "execution_count": 1,
   "id": "3393cded-721d-4189-9e2e-33a4f12554f3",
   "metadata": {},
   "outputs": [],
   "source": [
    "import pandas as pd\n",
    "import matplotlib.pyplot as plt\n",
    "import seaborn as sns"
   ]
  },
  {
   "cell_type": "code",
   "execution_count": 2,
   "id": "02d9ee76-4dca-4ea1-9629-50bc796406e0",
   "metadata": {},
   "outputs": [
    {
     "data": {
      "text/html": [
       "<div>\n",
       "<style scoped>\n",
       "    .dataframe tbody tr th:only-of-type {\n",
       "        vertical-align: middle;\n",
       "    }\n",
       "\n",
       "    .dataframe tbody tr th {\n",
       "        vertical-align: top;\n",
       "    }\n",
       "\n",
       "    .dataframe thead th {\n",
       "        text-align: right;\n",
       "    }\n",
       "</style>\n",
       "<table border=\"1\" class=\"dataframe\">\n",
       "  <thead>\n",
       "    <tr style=\"text-align: right;\">\n",
       "      <th></th>\n",
       "      <th>sequence</th>\n",
       "      <th>classification</th>\n",
       "    </tr>\n",
       "  </thead>\n",
       "  <tbody>\n",
       "    <tr>\n",
       "      <th>0</th>\n",
       "      <td>AQLVDSMPSASTGSVVVTDDLNYWGGRRIKSKDGATTEPVFEPATG...</td>\n",
       "      <td>OXIDOREDUCTASE</td>\n",
       "    </tr>\n",
       "    <tr>\n",
       "      <th>1</th>\n",
       "      <td>MGAFLDKPKMEKHNAQGQGNGLRYGLSSMQGWRVEMEDAHTAVIGL...</td>\n",
       "      <td>HYDROLASE</td>\n",
       "    </tr>\n",
       "    <tr>\n",
       "      <th>2</th>\n",
       "      <td>STAGKVIKCKAAVLWEEKKPFSIEEVEVAPPKAHEVRIKMVATGIC...</td>\n",
       "      <td>OXIDOREDUCTASE</td>\n",
       "    </tr>\n",
       "    <tr>\n",
       "      <th>3</th>\n",
       "      <td>MDIRQGPKEPFRDYVDRFYKTLRAEQASQEVKNWMTETLLVQNANP...</td>\n",
       "      <td>VIRAL PROTEIN</td>\n",
       "    </tr>\n",
       "    <tr>\n",
       "      <th>4</th>\n",
       "      <td>EVKQENRLLNESESSSQGLLGYYFSDLNFQAPMVVTSSTTGDLSIP...</td>\n",
       "      <td>TOXIN</td>\n",
       "    </tr>\n",
       "  </tbody>\n",
       "</table>\n",
       "</div>"
      ],
      "text/plain": [
       "                                            sequence  classification\n",
       "0  AQLVDSMPSASTGSVVVTDDLNYWGGRRIKSKDGATTEPVFEPATG...  OXIDOREDUCTASE\n",
       "1  MGAFLDKPKMEKHNAQGQGNGLRYGLSSMQGWRVEMEDAHTAVIGL...       HYDROLASE\n",
       "2  STAGKVIKCKAAVLWEEKKPFSIEEVEVAPPKAHEVRIKMVATGIC...  OXIDOREDUCTASE\n",
       "3  MDIRQGPKEPFRDYVDRFYKTLRAEQASQEVKNWMTETLLVQNANP...   VIRAL PROTEIN\n",
       "4  EVKQENRLLNESESSSQGLLGYYFSDLNFQAPMVVTSSTTGDLSIP...           TOXIN"
      ]
     },
     "execution_count": 2,
     "metadata": {},
     "output_type": "execute_result"
    }
   ],
   "source": [
    "data = pd.read_csv('./data/protein_data.csv')\n",
    "data.head()"
   ]
  },
  {
   "cell_type": "code",
   "execution_count": 3,
   "id": "675067d7-b279-4f86-a5ba-e746a1272591",
   "metadata": {},
   "outputs": [],
   "source": [
    "X = data['sequence']\n",
    "y = data['classification']\n",
    "\n",
    "from sklearn.preprocessing import LabelEncoder\n",
    "le = LabelEncoder()\n",
    "y = le.fit_transform(y)\n",
    "class_names = le.classes_\n",
    "n_classes = len(class_names)\n",
    "\n",
    "from sklearn.model_selection import train_test_split\n",
    "X_train, X_test, y_train,y_test = train_test_split(X, y, test_size=0.2, random_state=42)\n",
    "X_train, X_val, y_train, y_val = train_test_split(X_train, y_train, test_size=0.1, random_state=42)"
   ]
  },
  {
   "cell_type": "code",
   "execution_count": 4,
   "id": "8766795e-7dbd-41cf-b283-74905b99b980",
   "metadata": {},
   "outputs": [
    {
     "name": "stdout",
     "output_type": "stream",
     "text": [
      "Average character length: 241.89\n"
     ]
    }
   ],
   "source": [
    "avg_char_len = X_train.str.len().mean()\n",
    "print(f\"Average character length: {avg_char_len:.2f}\")"
   ]
  },
  {
   "cell_type": "code",
   "execution_count": 5,
   "id": "205e8e7b-6eaf-4f6b-a909-b07330e60991",
   "metadata": {},
   "outputs": [],
   "source": [
    "import torch\n",
    "\n",
    "aa_to_idx = {\n",
    "    'A': 1, 'C': 2, 'D': 3, 'E': 4, 'F': 5,\n",
    "    'G': 6, 'H': 7, 'I': 8, 'K': 9, 'L': 10,\n",
    "    'M': 11, 'N': 12, 'P': 13, 'Q': 14, 'R': 15,\n",
    "    'S': 16, 'T': 17, 'V': 18, 'W': 19, 'Y': 20,\n",
    "    'B': 0, 'Z': 0, 'U': 0, 'O': 0, 'X': 0\n",
    "}\n",
    "\n",
    "def encode_sequence(seq, max_len=250):\n",
    "    encoded = [aa_to_idx.get(aa, 0) for aa in seq]  # map or 0 if unknown\n",
    "    if len(encoded) < max_len:\n",
    "        encoded += [0] * (max_len - len(encoded))  # zero padding\n",
    "    else:\n",
    "        encoded = encoded[:max_len]  # truncate if longer\n",
    "    return torch.tensor(encoded, dtype=torch.long)"
   ]
  },
  {
   "cell_type": "code",
   "execution_count": 6,
   "id": "07eb007a-1dbc-48ab-8a1d-9e3b0ced6a35",
   "metadata": {},
   "outputs": [
    {
     "name": "stdout",
     "output_type": "stream",
     "text": [
      "AQLVDSMPSASTGSVVVTDDLNYWGGRRIKSKDGATTEPVFEPATGRVLCQMVPCGAEEVDQAVQSAQAAYLKWSKMAGIERSRVMLEAARIIRERRDNIAKLEVINNGKTITEAEYDIDAAWQCIEYYAGLAPTLSGQHIQLPGGAFAYTRREPLGVCAGILAWNYPFMIAAWKCAPALACGNAVVFKPSPMTPVTGVILAEIFHEAGVPVGLVNVVQGGAETGSLLCHHPNVAKVSFTGSVPTGKKVMEMSAKTVKHVTLELGGKSPLLIFKDCELENAVRGALMANFLTQGQVCTNGTRVFVQREIMPQFLEEVVKRTKAIVVGDPLLTETRMGGLISKPQLDKVLGFVAQAKKEGARVLCGGEPLTPSDPKLKNGYFMSPCVLDNCRDDMTCVKEEIFGPVMSVLPFDTEEEVLQRANNTTFGLASGVFTRDISRAHRVAANLEAGTCYINTYSISPVEVPFGGYKMSGFGRENGQATVDYYSQLKTVIVEMGDVDSLF\n"
     ]
    },
    {
     "data": {
      "text/plain": [
       "tensor([[ 1.0261, -0.3648, -1.9177,  ..., -0.6334, -0.0443, -0.8629],\n",
       "        [ 0.1797, -0.3453,  0.0919,  ...,  1.6547,  0.0393, -1.2831],\n",
       "        [ 0.5637,  1.5805,  1.1455,  ...,  0.2945,  0.6780, -2.0129],\n",
       "        ...,\n",
       "        [-1.7435, -1.2566, -0.5863,  ...,  0.5882,  1.6587, -0.8977],\n",
       "        [ 0.1169,  1.9384,  0.9157,  ..., -1.6839,  0.3222,  0.8870],\n",
       "        [-0.3870,  0.1543,  0.2290,  ...,  0.7074, -0.4920,  1.8159]],\n",
       "       grad_fn=<EmbeddingBackward0>)"
      ]
     },
     "execution_count": 6,
     "metadata": {},
     "output_type": "execute_result"
    }
   ],
   "source": [
    "print(X_train[0])\n",
    "embedding = torch.nn.Embedding(num_embeddings=21, embedding_dim=128, padding_idx=0)\n",
    "embedding(encode_sequence(X_train[0]))"
   ]
  },
  {
   "cell_type": "code",
   "execution_count": 7,
   "id": "0f47d3e2-3743-443f-8f35-94ccc7aa5dd9",
   "metadata": {},
   "outputs": [],
   "source": [
    "import torch\n",
    "from torch.utils.data import Dataset, DataLoader\n",
    "\n",
    "class ProteinDataset(Dataset):\n",
    "    def __init__(self, X, y):\n",
    "        self.X = X\n",
    "        self.y = y\n",
    "\n",
    "    def __len__(self):\n",
    "        return len(self.X)\n",
    "\n",
    "    def __getitem__(self, idx):\n",
    "        seq = pd.Series(self.X).iloc[idx]\n",
    "        label = pd.Series(self.y).iloc[idx]\n",
    "        encoded_seq = encode_sequence(seq)\n",
    "        return encoded_seq, torch.tensor(label, dtype=torch.long)"
   ]
  },
  {
   "cell_type": "code",
   "execution_count": 8,
   "id": "238cef87-e0e1-4375-af61-d44134612b85",
   "metadata": {},
   "outputs": [],
   "source": [
    "train_dataset = ProteinDataset(X_train, y_train)\n",
    "val_dataset   = ProteinDataset(X_val, y_val)\n",
    "test_dataset  = ProteinDataset(X_test, y_test)\n",
    "\n",
    "batch_size = 32\n",
    "\n",
    "train_loader = DataLoader(train_dataset, batch_size=batch_size, shuffle=True)\n",
    "val_loader   = DataLoader(val_dataset, batch_size=batch_size, shuffle=False)\n",
    "test_loader  = DataLoader(test_dataset, batch_size=batch_size, shuffle=False)"
   ]
  },
  {
   "cell_type": "code",
   "execution_count": 9,
   "id": "7783de81-0b34-40b3-8e92-b7946a816518",
   "metadata": {},
   "outputs": [],
   "source": [
    "import time\n",
    "import torch\n",
    "import torch.nn as nn\n",
    "import torch.optim as optim\n",
    "\n",
    "class Conv1DClassifier(nn.Module):\n",
    "    def __init__(self, vocab_size, embedding_dim, n_classes, pad_idx=0):\n",
    "        super(Conv1DClassifier, self).__init__()\n",
    "\n",
    "        self.embedding = nn.Embedding(vocab_size, embedding_dim, padding_idx=pad_idx)\n",
    "\n",
    "        # Conv1D layers to extract local motifs\n",
    "        self.conv1 = nn.Conv1d(in_channels=embedding_dim, out_channels=256, kernel_size=5, padding=2)\n",
    "        self.conv2 = nn.Conv1d(in_channels=256, out_channels=128, kernel_size=5, padding=2)\n",
    "        self.conv3 = nn.Conv1d(in_channels=128, out_channels=64, kernel_size=3, padding=1)\n",
    "\n",
    "        self.relu = nn.ReLU()\n",
    "        self.dropout = nn.Dropout(0.3)\n",
    "        self.pool = nn.AdaptiveMaxPool1d(1)  # Pool across sequence length\n",
    "\n",
    "        # Fully connected layers\n",
    "        self.fc1 = nn.Linear(64, 128)\n",
    "        self.fc2 = nn.Linear(128, 64)\n",
    "        self.fc_out = nn.Linear(64, n_classes)\n",
    "\n",
    "    def forward(self, x):\n",
    "        # x: [batch_size, seq_len]\n",
    "        x = self.embedding(x)   # -> [batch_size, seq_len, embedding_dim]\n",
    "        x = x.transpose(1, 2)   # -> [batch_size, embedding_dim, seq_len] for Conv1d\n",
    "\n",
    "        x = self.relu(self.conv1(x))\n",
    "        x = self.dropout(x)\n",
    "        x = self.relu(self.conv2(x))\n",
    "        x = self.dropout(x)\n",
    "        x = self.relu(self.conv3(x))\n",
    "\n",
    "        # Global max pooling over sequence length\n",
    "        x = self.pool(x).squeeze(-1)  # -> [batch_size, 64]\n",
    "\n",
    "        x = self.relu(self.fc1(x))\n",
    "        x = self.relu(self.fc2(x))\n",
    "        x = self.fc_out(x)  # -> [batch_size, n_classes]\n",
    "\n",
    "        return x\n",
    "\n",
    "\n",
    "history = {\n",
    "    \"train_loss\": [],\n",
    "    \"val_loss\": [],\n",
    "    \"train_acc\": [],\n",
    "    \"val_acc\": []\n",
    "}\n",
    "\n",
    "def train_model(model, train_loader, val_loader, n_epochs=20, lr=1e-3, patience=3):\n",
    "    global history\n",
    "    \n",
    "    device = torch.device(\"cuda\" if torch.cuda.is_available() else \"cpu\")\n",
    "    model.to(device)\n",
    "\n",
    "    criterion = nn.CrossEntropyLoss()\n",
    "    optimizer = optim.Adam(model.parameters(), lr=lr)\n",
    "\n",
    "    best_val_loss = float(\"inf\")\n",
    "    patience_counter = 0\n",
    "    best_model_wts = None\n",
    "\n",
    "    for epoch in range(n_epochs):\n",
    "        epoch_start = time.time()\n",
    "        \n",
    "        # --- Train ---\n",
    "        model.train()\n",
    "        train_loss, correct, total = 0, 0, 0\n",
    "        for X, y in train_loader:\n",
    "            X, y = X.to(device), y.to(device)\n",
    "\n",
    "            optimizer.zero_grad()\n",
    "            outputs = model(X)\n",
    "            loss = criterion(outputs, y)\n",
    "            loss.backward()\n",
    "            optimizer.step()\n",
    "\n",
    "            train_loss += loss.item() * X.size(0)\n",
    "            preds = outputs.argmax(dim=1)\n",
    "            correct += (preds == y).sum().item()\n",
    "            total += y.size(0)\n",
    "\n",
    "        train_acc = correct / total\n",
    "        train_loss /= total\n",
    "\n",
    "        # --- Validation ---\n",
    "        model.eval()\n",
    "        val_loss, correct, total = 0, 0, 0\n",
    "        with torch.no_grad():\n",
    "            for X, y in val_loader:\n",
    "                X, y = X.to(device), y.to(device)\n",
    "                outputs = model(X)\n",
    "                loss = criterion(outputs, y)\n",
    "\n",
    "                val_loss += loss.item() * X.size(0)\n",
    "                preds = outputs.argmax(dim=1)\n",
    "                correct += (preds == y).sum().item()\n",
    "                total += y.size(0)\n",
    "\n",
    "        val_acc = correct / total\n",
    "        val_loss /= total\n",
    "\n",
    "        # --- Save history ---\n",
    "        history[\"train_loss\"].append(train_loss)\n",
    "        history[\"val_loss\"].append(val_loss)\n",
    "        history[\"train_acc\"].append(train_acc)\n",
    "        history[\"val_acc\"].append(val_acc)\n",
    "\n",
    "        epoch_time = time.time() - epoch_start\n",
    "\n",
    "        print(f\"Epoch {epoch+1}: \"\n",
    "              f\"Train loss={train_loss:.4f}, acc={train_acc:.4f} | \"\n",
    "              f\"Val loss={val_loss:.4f}, acc={val_acc:.4f} | \"\n",
    "              f\"Time: {epoch_time:.2f}s\")\n",
    "\n",
    "        # --- Early Stopping ---\n",
    "        if val_loss < best_val_loss:\n",
    "            best_val_loss = val_loss\n",
    "            best_model_wts = model.state_dict()\n",
    "            patience_counter = 0\n",
    "        else:\n",
    "            patience_counter += 1\n",
    "            if patience_counter >= patience:\n",
    "                print(\"Early stopping triggered.\")\n",
    "                if best_model_wts is not None:\n",
    "                    model.load_state_dict(best_model_wts)\n",
    "                break\n",
    "\n",
    "    return model"
   ]
  },
  {
   "cell_type": "code",
   "execution_count": 11,
   "id": "17d4f350-07fc-4c67-a070-e2dcfab20b21",
   "metadata": {},
   "outputs": [
    {
     "name": "stdout",
     "output_type": "stream",
     "text": [
      "Epoch 1: Train loss=2.8140, acc=0.2086 | Val loss=2.3527, acc=0.3433 | Time: 32.88s\n",
      "Epoch 2: Train loss=2.3209, acc=0.3410 | Val loss=2.0912, acc=0.4212 | Time: 32.15s\n",
      "Epoch 3: Train loss=2.1232, acc=0.3941 | Val loss=1.8898, acc=0.4785 | Time: 32.16s\n",
      "Epoch 4: Train loss=2.0005, acc=0.4268 | Val loss=1.7058, acc=0.5160 | Time: 32.11s\n",
      "Epoch 5: Train loss=1.9100, acc=0.4516 | Val loss=1.6236, acc=0.5535 | Time: 32.29s\n",
      "Epoch 6: Train loss=1.8390, acc=0.4708 | Val loss=1.5085, acc=0.5839 | Time: 32.06s\n",
      "Epoch 7: Train loss=1.7815, acc=0.4868 | Val loss=1.5005, acc=0.5859 | Time: 31.91s\n",
      "Epoch 8: Train loss=1.7370, acc=0.4988 | Val loss=1.4200, acc=0.6087 | Time: 31.91s\n",
      "Epoch 9: Train loss=1.6996, acc=0.5096 | Val loss=1.3926, acc=0.6130 | Time: 31.86s\n",
      "Epoch 10: Train loss=1.6631, acc=0.5190 | Val loss=1.3411, acc=0.6318 | Time: 31.86s\n",
      "Epoch 11: Train loss=1.6365, acc=0.5269 | Val loss=1.3041, acc=0.6348 | Time: 31.92s\n",
      "Epoch 12: Train loss=1.6097, acc=0.5350 | Val loss=1.3000, acc=0.6362 | Time: 32.00s\n",
      "Epoch 13: Train loss=1.5845, acc=0.5397 | Val loss=1.2828, acc=0.6492 | Time: 31.99s\n",
      "Epoch 14: Train loss=1.5617, acc=0.5462 | Val loss=1.2343, acc=0.6582 | Time: 32.18s\n",
      "Epoch 15: Train loss=1.5428, acc=0.5529 | Val loss=1.2140, acc=0.6617 | Time: 31.90s\n",
      "Epoch 16: Train loss=1.5219, acc=0.5581 | Val loss=1.1872, acc=0.6683 | Time: 31.84s\n",
      "Epoch 17: Train loss=1.5081, acc=0.5622 | Val loss=1.2009, acc=0.6676 | Time: 32.00s\n",
      "Epoch 18: Train loss=1.4952, acc=0.5662 | Val loss=1.1588, acc=0.6801 | Time: 31.90s\n",
      "Epoch 19: Train loss=1.4771, acc=0.5719 | Val loss=1.1636, acc=0.6739 | Time: 31.95s\n",
      "Epoch 20: Train loss=1.4642, acc=0.5750 | Val loss=1.1440, acc=0.6913 | Time: 31.66s\n"
     ]
    }
   ],
   "source": [
    "vocab_size = 21\n",
    "embedding_dim = 128\n",
    "hidden_dim = 128\n",
    "\n",
    "pad_idx = 0\n",
    "\n",
    "model = Conv1DClassifier(vocab_size=21, embedding_dim=128, n_classes=n_classes, pad_idx=0)\n",
    "trained_model = train_model(model, train_loader, val_loader, n_epochs=20, lr=1e-3, patience=3)"
   ]
  },
  {
   "cell_type": "code",
   "execution_count": 12,
   "id": "924986fe-0f6d-4842-a2ea-083c5aeba2b0",
   "metadata": {},
   "outputs": [
    {
     "data": {
      "image/png": "[encoded data removed]",
      "text/plain": [
       "<Figure size 1200x500 with 2 Axes>"
      ]
     },
     "metadata": {},
     "output_type": "display_data"
    }
   ],
   "source": [
    "import matplotlib.pyplot as plt\n",
    "\n",
    "fig, axes = plt.subplots(1, 2, figsize=(12, 5))\n",
    "\n",
    "# --- Loss subplot ---\n",
    "axes[0].plot(history[\"train_loss\"], label=\"Train Loss\")\n",
    "axes[0].plot(history[\"val_loss\"], label=\"Val Loss\")\n",
    "axes[0].set_title(\"Loss Curve\")\n",
    "axes[0].set_xlabel(\"Epoch\")\n",
    "axes[0].set_ylabel(\"Loss\")\n",
    "axes[0].legend()\n",
    "\n",
    "# --- Accuracy subplot ---\n",
    "axes[1].plot(history[\"train_acc\"], label=\"Train Acc\")\n",
    "axes[1].plot(history[\"val_acc\"], label=\"Val Acc\")\n",
    "axes[1].set_title(\"Accuracy Curve\")\n",
    "axes[1].set_xlabel(\"Epoch\")\n",
    "axes[1].set_ylabel(\"Accuracy\")\n",
    "axes[1].legend()\n",
    "\n",
    "plt.tight_layout()\n",
    "plt.show()"
   ]
  },
  {
   "cell_type": "code",
   "execution_count": 13,
   "id": "34d4ebe7-181b-43a2-bd24-22191154b960",
   "metadata": {},
   "outputs": [],
   "source": [
    "import torch\n",
    "import time\n",
    "\n",
    "def get_predictions(model, test_loader):\n",
    "    device = torch.device(\"cuda\" if torch.cuda.is_available() else \"cpu\")\n",
    "    model.to(device)\n",
    "    model.eval()\n",
    "    \n",
    "    all_preds = []\n",
    "    all_labels = []\n",
    "    \n",
    "    with torch.no_grad():\n",
    "        for X, y in test_loader:\n",
    "            X, y = X.to(device), y.to(device)\n",
    "            outputs = model(X)\n",
    "            preds = outputs.argmax(dim=1)\n",
    "            \n",
    "            all_preds.extend(preds.cpu().numpy())\n",
    "            all_labels.extend(y.cpu().numpy())\n",
    "\n",
    "    return all_preds, all_labels\n",
    "\n",
    "y_pred, y_true = get_predictions(trained_model, test_loader)"
   ]
  },
  {
   "cell_type": "code",
   "execution_count": 14,
   "id": "0f8d83bb-8511-4c7b-ade5-044407ba3f60",
   "metadata": {},
   "outputs": [],
   "source": [
    "from sklearn.metrics import accuracy_score, classification_report, confusion_matrix"
   ]
  },
  {
   "cell_type": "code",
   "execution_count": 15,
   "id": "b348113c-2105-4a02-9446-60f6e51e4d1c",
   "metadata": {},
   "outputs": [
    {
     "data": {
      "text/plain": [
       "0.6907332558182456"
      ]
     },
     "execution_count": 15,
     "metadata": {},
     "output_type": "execute_result"
    }
   ],
   "source": [
    "accuracy_score(y_true, y_pred)"
   ]
  },
  {
   "cell_type": "code",
   "execution_count": 16,
   "id": "02e1e585-b9f9-4410-b4e8-59fecaa10266",
   "metadata": {},
   "outputs": [
    {
     "name": "stdout",
     "output_type": "stream",
     "text": [
      "              precision    recall  f1-score   support\n",
      "\n",
      "           0       0.85      0.83      0.84      1708\n",
      "           1       0.78      0.93      0.85      1685\n",
      "           2       0.81      0.97      0.88      1729\n",
      "           3       0.86      0.99      0.92      1682\n",
      "           4       0.90      0.72      0.80      1705\n",
      "           5       0.87      0.79      0.83      1628\n",
      "           6       0.82      0.96      0.89      1646\n",
      "           7       0.46      0.14      0.21      1783\n",
      "           8       0.67      0.77      0.72      1661\n",
      "           9       0.69      0.75      0.72      1685\n",
      "          10       0.75      0.75      0.75      1683\n",
      "          11       0.71      0.71      0.71      1679\n",
      "          12       0.64      0.55      0.59      1728\n",
      "          13       0.60      0.58      0.59      1687\n",
      "          14       0.76      0.85      0.80      1686\n",
      "          15       0.61      0.35      0.44      1633\n",
      "          16       0.89      0.99      0.94      1699\n",
      "          17       0.74      1.00      0.85      1757\n",
      "          18       0.25      0.23      0.24      1686\n",
      "          19       0.58      0.80      0.68      1662\n",
      "          20       0.93      0.98      0.95      1720\n",
      "          21       0.46      0.36      0.40      1691\n",
      "          22       0.33      0.57      0.42      1680\n",
      "          23       0.75      0.72      0.73      1655\n",
      "          24       0.88      0.93      0.91      1681\n",
      "          25       0.87      0.96      0.92      1746\n",
      "          26       0.47      0.35      0.40      1657\n",
      "          27       0.34      0.04      0.08      1734\n",
      "          28       0.72      0.89      0.80      1729\n",
      "          29       0.40      0.43      0.42      1673\n",
      "          30       0.45      0.48      0.47      1695\n",
      "          31       0.83      0.71      0.76      1710\n",
      "\n",
      "    accuracy                           0.69     54183\n",
      "   macro avg       0.68      0.69      0.67     54183\n",
      "weighted avg       0.68      0.69      0.67     54183\n",
      "\n"
     ]
    }
   ],
   "source": [
    "print(classification_report(y_true, y_pred))"
   ]
  },
  {
   "cell_type": "code",
   "execution_count": 17,
   "id": "19367425-a477-4c9e-91b7-9ffd93f81fa2",
   "metadata": {},
   "outputs": [
    {
     "data": {
      "image/png": "[encoded data removed]",
      "text/plain": [
       "<Figure size 1000x700 with 2 Axes>"
      ]
     },
     "metadata": {},
     "output_type": "display_data"
    }
   ],
   "source": [
    "cm = confusion_matrix(y_true, y_pred)\n",
    "plt.figure(figsize=(10,7))\n",
    "sns.heatmap(cm, cmap='Blues');"
   ]
  },
  {
   "cell_type": "code",
   "execution_count": 18,
   "id": "5e381d90-5ba8-4435-95d9-cff36198a374",
   "metadata": {},
   "outputs": [],
   "source": [
    "torch.save(model.state_dict(), \"./models/cnn_model_weights.pth\")"
   ]
  },
  {
   "cell_type": "code",
   "execution_count": 19,
   "id": "359d11d1-bd73-49da-a75d-6c61666077c3",
   "metadata": {},
   "outputs": [],
   "source": [
    "torch.save(model, \"./models/cnn_model_full.pth\")"
   ]
  },
  {
   "cell_type": "code",
   "execution_count": 20,
   "id": "61a4f850-9301-4473-bea5-9aa2a5f31650",
   "metadata": {},
   "outputs": [],
   "source": [
    "import torch\n",
    "from sklearn.metrics import accuracy_score, precision_score, recall_score, f1_score"
   ]
  },
  {
   "cell_type": "code",
   "execution_count": 21,
   "id": "3bb335e9-ce63-4525-97b5-485fe8a40a72",
   "metadata": {},
   "outputs": [
    {
     "data": {
      "text/plain": [
       "Conv1DClassifier(\n",
       "  (embedding): Embedding(21, 128, padding_idx=0)\n",
       "  (conv1): Conv1d(128, 256, kernel_size=(5,), stride=(1,), padding=(2,))\n",
       "  (conv2): Conv1d(256, 128, kernel_size=(5,), stride=(1,), padding=(2,))\n",
       "  (conv3): Conv1d(128, 64, kernel_size=(3,), stride=(1,), padding=(1,))\n",
       "  (relu): ReLU()\n",
       "  (dropout): Dropout(p=0.3, inplace=False)\n",
       "  (pool): AdaptiveMaxPool1d(output_size=1)\n",
       "  (fc1): Linear(in_features=64, out_features=128, bias=True)\n",
       "  (fc2): Linear(in_features=128, out_features=64, bias=True)\n",
       "  (fc_out): Linear(in_features=64, out_features=32, bias=True)\n",
       ")"
      ]
     },
     "execution_count": 21,
     "metadata": {},
     "output_type": "execute_result"
    }
   ],
   "source": [
    "device = torch.device(\"cuda\" if torch.cuda.is_available() else \"cpu\")\n",
    "model = torch.load(\"./models/cnn_model_full.pth\", map_location=device, weights_only=False)\n",
    "model.to(device)\n",
    "model.eval()"
   ]
  },
  {
   "cell_type": "code",
   "execution_count": 22,
   "id": "e82ce786-0d10-45f2-933b-3919006ff064",
   "metadata": {},
   "outputs": [
    {
     "name": "stdout",
     "output_type": "stream",
     "text": [
      "Accuracy: 0.6907\n",
      "Precision: 0.6771\n",
      "Recall: 0.6907\n",
      "F1 Score: 0.6716\n"
     ]
    }
   ],
   "source": [
    "all_preds = []\n",
    "all_labels = []\n",
    "\n",
    "with torch.no_grad():\n",
    "    for X, y in test_loader:\n",
    "        X, y = X.to(device), y.to(device)\n",
    "        outputs = model(X)\n",
    "        _, preds = torch.max(outputs, 1)\n",
    "        all_preds.extend(preds.cpu().numpy())\n",
    "        all_labels.extend(y.cpu().numpy())\n",
    "\n",
    "accuracy = accuracy_score(all_labels, all_preds)\n",
    "precision = precision_score(all_labels, all_preds, average=\"weighted\")\n",
    "recall = recall_score(all_labels, all_preds, average=\"weighted\")\n",
    "f1 = f1_score(all_labels, all_preds, average=\"weighted\")\n",
    "\n",
    "print(f\"Accuracy: {accuracy:.4f}\")\n",
    "print(f\"Precision: {precision:.4f}\")\n",
    "print(f\"Recall: {recall:.4f}\")\n",
    "print(f\"F1 Score: {f1:.4f}\")"
   ]
  },
  {
   "cell_type": "code",
   "execution_count": null,
   "id": "3192a447-e8ac-4885-9a05-24670fa7713f",
   "metadata": {},
   "outputs": [],
   "source": []
  }
 ],
 "metadata": {
  "kernelspec": {
   "display_name": "Python 3 (ipykernel)",
   "language": "python",
   "name": "python3"
  },
  "language_info": {
   "codemirror_mode": {
    "name": "ipython",
    "version": 3
   },
   "file_extension": ".py",
   "mimetype": "text/x-python",
   "name": "python",
   "nbconvert_exporter": "python",
   "pygments_lexer": "ipython3",
   "version": "3.10.18"
  }
 },
 "nbformat": 4,
 "nbformat_minor": 5
}
